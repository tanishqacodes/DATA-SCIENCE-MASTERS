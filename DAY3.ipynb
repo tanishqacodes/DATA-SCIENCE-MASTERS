{
 "cells": [
  {
   "cell_type": "markdown",
   "id": "49cb74b9-63b7-4a88-b280-784bb4687a7b",
   "metadata": {},
   "source": [
    "### OPERATORS\n",
    "#### LOGICAL OPERATOR\n",
    "    * and\n",
    "    * or\n",
    "    * not"
   ]
  },
  {
   "cell_type": "code",
   "execution_count": 25,
   "id": "1e0ee4aa-0635-49da-8eaa-8449fcf50121",
   "metadata": {},
   "outputs": [
    {
     "data": {
      "text/plain": [
       "True"
      ]
     },
     "execution_count": 25,
     "metadata": {},
     "output_type": "execute_result"
    }
   ],
   "source": [
    "#logical and\n",
    "True and True"
   ]
  },
  {
   "cell_type": "code",
   "execution_count": 3,
   "id": "dbd807cb-724e-4fa9-8ea4-42fdcc63bfbd",
   "metadata": {},
   "outputs": [
    {
     "data": {
      "text/plain": [
       "False"
      ]
     },
     "execution_count": 3,
     "metadata": {},
     "output_type": "execute_result"
    }
   ],
   "source": [
    "True and False"
   ]
  },
  {
   "cell_type": "code",
   "execution_count": 4,
   "id": "0dd96298-0c91-4a3a-8cb6-03998d558e51",
   "metadata": {},
   "outputs": [
    {
     "data": {
      "text/plain": [
       "False"
      ]
     },
     "execution_count": 4,
     "metadata": {},
     "output_type": "execute_result"
    }
   ],
   "source": [
    "False and True"
   ]
  },
  {
   "cell_type": "code",
   "execution_count": 5,
   "id": "2bd927ba-78f7-4143-ad5b-fa92091210c9",
   "metadata": {},
   "outputs": [
    {
     "data": {
      "text/plain": [
       "False"
      ]
     },
     "execution_count": 5,
     "metadata": {},
     "output_type": "execute_result"
    }
   ],
   "source": [
    "False and False"
   ]
  },
  {
   "cell_type": "code",
   "execution_count": 24,
   "id": "0cef8d7b-ff02-482e-a2b3-1137c0ede9e6",
   "metadata": {},
   "outputs": [
    {
     "data": {
      "text/plain": [
       "True"
      ]
     },
     "execution_count": 24,
     "metadata": {},
     "output_type": "execute_result"
    }
   ],
   "source": [
    "#logical or\n",
    "True or True"
   ]
  },
  {
   "cell_type": "code",
   "execution_count": 7,
   "id": "e0e7cbc4-d33d-4aac-a7f5-fd53f72fc4dc",
   "metadata": {},
   "outputs": [
    {
     "data": {
      "text/plain": [
       "True"
      ]
     },
     "execution_count": 7,
     "metadata": {},
     "output_type": "execute_result"
    }
   ],
   "source": [
    "True or False"
   ]
  },
  {
   "cell_type": "code",
   "execution_count": 8,
   "id": "ad8bc15c-a21b-4578-ab8a-1214b2ad2075",
   "metadata": {},
   "outputs": [
    {
     "data": {
      "text/plain": [
       "True"
      ]
     },
     "execution_count": 8,
     "metadata": {},
     "output_type": "execute_result"
    }
   ],
   "source": [
    "False or True"
   ]
  },
  {
   "cell_type": "code",
   "execution_count": 9,
   "id": "da3ce37e-87b8-43ac-8391-c189c3945370",
   "metadata": {},
   "outputs": [
    {
     "data": {
      "text/plain": [
       "False"
      ]
     },
     "execution_count": 9,
     "metadata": {},
     "output_type": "execute_result"
    }
   ],
   "source": [
    "False or False"
   ]
  },
  {
   "cell_type": "code",
   "execution_count": 22,
   "id": "2726547a-f11a-4b72-b4b6-061d131328c2",
   "metadata": {},
   "outputs": [
    {
     "data": {
      "text/plain": [
       "False"
      ]
     },
     "execution_count": 22,
     "metadata": {},
     "output_type": "execute_result"
    }
   ],
   "source": [
    "# logical not\n",
    "not True"
   ]
  },
  {
   "cell_type": "code",
   "execution_count": 11,
   "id": "ae3ebf2a-d0c4-48a1-a42e-9aa36baef76d",
   "metadata": {},
   "outputs": [
    {
     "data": {
      "text/plain": [
       "True"
      ]
     },
     "execution_count": 11,
     "metadata": {},
     "output_type": "execute_result"
    }
   ],
   "source": [
    "not False"
   ]
  },
  {
   "cell_type": "code",
   "execution_count": 12,
   "id": "9281b1f2-8c94-4944-99b0-26f5de6893bf",
   "metadata": {},
   "outputs": [
    {
     "data": {
      "text/plain": [
       "True"
      ]
     },
     "execution_count": 12,
     "metadata": {},
     "output_type": "execute_result"
    }
   ],
   "source": [
    "not bool(0)"
   ]
  },
  {
   "cell_type": "code",
   "execution_count": 13,
   "id": "9f834ffc-e6f3-482c-86b5-ead67b6f8640",
   "metadata": {},
   "outputs": [
    {
     "data": {
      "text/plain": [
       "0"
      ]
     },
     "execution_count": 13,
     "metadata": {},
     "output_type": "execute_result"
    }
   ],
   "source": [
    "int(bool(0))"
   ]
  },
  {
   "cell_type": "code",
   "execution_count": 14,
   "id": "9ea7f505-86de-4590-b6df-f06b10d8a17b",
   "metadata": {},
   "outputs": [
    {
     "data": {
      "text/plain": [
       "True"
      ]
     },
     "execution_count": 14,
     "metadata": {},
     "output_type": "execute_result"
    }
   ],
   "source": [
    "bool(1)"
   ]
  },
  {
   "cell_type": "code",
   "execution_count": 15,
   "id": "ef3872c0-bdcc-4a09-9996-f521b6eda877",
   "metadata": {},
   "outputs": [
    {
     "data": {
      "text/plain": [
       "1"
      ]
     },
     "execution_count": 15,
     "metadata": {},
     "output_type": "execute_result"
    }
   ],
   "source": [
    "int(bool(1))"
   ]
  },
  {
   "cell_type": "code",
   "execution_count": 16,
   "id": "305610e6-9a73-453e-9826-eeb6b7d07d8c",
   "metadata": {},
   "outputs": [
    {
     "data": {
      "text/plain": [
       "False"
      ]
     },
     "execution_count": 16,
     "metadata": {},
     "output_type": "execute_result"
    }
   ],
   "source": [
    "not int(bool(1))"
   ]
  },
  {
   "cell_type": "code",
   "execution_count": 17,
   "id": "0d7af289-58f7-4a29-8840-00413f6d907d",
   "metadata": {},
   "outputs": [
    {
     "data": {
      "text/plain": [
       "False"
      ]
     },
     "execution_count": 17,
     "metadata": {},
     "output_type": "execute_result"
    }
   ],
   "source": [
    "not 1"
   ]
  },
  {
   "cell_type": "code",
   "execution_count": 18,
   "id": "f70c00be-1917-4ec6-a58c-3cde1a9bf6ac",
   "metadata": {},
   "outputs": [
    {
     "data": {
      "text/plain": [
       "True"
      ]
     },
     "execution_count": 18,
     "metadata": {},
     "output_type": "execute_result"
    }
   ],
   "source": [
    "not 0"
   ]
  },
  {
   "cell_type": "code",
   "execution_count": 20,
   "id": "e33839c6-3f9f-40fe-8239-dfbe082ae533",
   "metadata": {},
   "outputs": [
    {
     "data": {
      "text/plain": [
       "False"
      ]
     },
     "execution_count": 20,
     "metadata": {},
     "output_type": "execute_result"
    }
   ],
   "source": [
    "not 2  # other than 0 considered as true"
   ]
  },
  {
   "cell_type": "code",
   "execution_count": 21,
   "id": "3b013dcc-6104-4fd3-8664-9a49045ee3ea",
   "metadata": {},
   "outputs": [
    {
     "data": {
      "text/plain": [
       "False"
      ]
     },
     "execution_count": 21,
     "metadata": {},
     "output_type": "execute_result"
    }
   ],
   "source": [
    "not -1"
   ]
  },
  {
   "cell_type": "code",
   "execution_count": 26,
   "id": "31ccf775-627a-4b6f-b013-25a9ea7291f5",
   "metadata": {},
   "outputs": [
    {
     "data": {
      "text/plain": [
       "0"
      ]
     },
     "execution_count": 26,
     "metadata": {},
     "output_type": "execute_result"
    }
   ],
   "source": [
    "True * False"
   ]
  },
  {
   "cell_type": "code",
   "execution_count": 27,
   "id": "dcb507a7-9a96-4c7f-a47b-b8fdccfa6cc9",
   "metadata": {},
   "outputs": [
    {
     "data": {
      "text/plain": [
       "0"
      ]
     },
     "execution_count": 27,
     "metadata": {},
     "output_type": "execute_result"
    }
   ],
   "source": [
    "True * False"
   ]
  },
  {
   "cell_type": "code",
   "execution_count": 28,
   "id": "8a56052b-e423-4e80-87e8-5a36ffb5d26f",
   "metadata": {},
   "outputs": [
    {
     "data": {
      "text/plain": [
       "1"
      ]
     },
     "execution_count": 28,
     "metadata": {},
     "output_type": "execute_result"
    }
   ],
   "source": [
    "True * True"
   ]
  },
  {
   "cell_type": "code",
   "execution_count": 29,
   "id": "47f3cb65-9283-472c-aa80-64ae97cf6a6e",
   "metadata": {},
   "outputs": [
    {
     "data": {
      "text/plain": [
       "True"
      ]
     },
     "execution_count": 29,
     "metadata": {},
     "output_type": "execute_result"
    }
   ],
   "source": [
    "not(False) * True"
   ]
  },
  {
   "cell_type": "code",
   "execution_count": 30,
   "id": "77476a78-084e-49e9-9157-fa9370136c9c",
   "metadata": {},
   "outputs": [
    {
     "data": {
      "text/plain": [
       "0"
      ]
     },
     "execution_count": 30,
     "metadata": {},
     "output_type": "execute_result"
    }
   ],
   "source": [
    "True * (not True)"
   ]
  },
  {
   "cell_type": "code",
   "execution_count": 35,
   "id": "5d7dc8de-10ef-4340-b368-fb2411cbcab4",
   "metadata": {},
   "outputs": [
    {
     "data": {
      "text/plain": [
       "True"
      ]
     },
     "execution_count": 35,
     "metadata": {},
     "output_type": "execute_result"
    }
   ],
   "source": [
    "not True * False\n",
    "\n",
    "# here , not has less priority than * operator"
   ]
  },
  {
   "cell_type": "code",
   "execution_count": 36,
   "id": "f0cec4c8-ce68-40bd-ade3-b1ddb9525ff3",
   "metadata": {},
   "outputs": [
    {
     "data": {
      "text/plain": [
       "0"
      ]
     },
     "execution_count": 36,
     "metadata": {},
     "output_type": "execute_result"
    }
   ],
   "source": [
    "(not True) * False\n",
    "\n",
    "# here , () higher priority than * operator\n"
   ]
  },
  {
   "cell_type": "code",
   "execution_count": 37,
   "id": "a18d2241-f4d2-4074-95f0-0d0f59f3b922",
   "metadata": {},
   "outputs": [
    {
     "data": {
      "text/plain": [
       "True"
      ]
     },
     "execution_count": 37,
     "metadata": {},
     "output_type": "execute_result"
    }
   ],
   "source": [
    "not(False) * False == True"
   ]
  },
  {
   "cell_type": "code",
   "execution_count": 38,
   "id": "48635443-378d-433e-ab75-5c4e313dff06",
   "metadata": {},
   "outputs": [
    {
     "data": {
      "text/plain": [
       "False"
      ]
     },
     "execution_count": 38,
     "metadata": {},
     "output_type": "execute_result"
    }
   ],
   "source": [
    "(not False) * False == True"
   ]
  },
  {
   "cell_type": "markdown",
   "id": "ae901dbe-7e2f-48d8-952a-f0805a8c8d9d",
   "metadata": {},
   "source": [
    "### Equality operator\n",
    "    * is -> return true if a & b (variable/identifier) points to same address\n",
    "    * is not \n",
    "    * == \n",
    "    * != "
   ]
  },
  {
   "cell_type": "code",
   "execution_count": 40,
   "id": "c4937f75-93b1-4dff-9490-a36c87bc57fa",
   "metadata": {},
   "outputs": [],
   "source": [
    "lst_a=[1,2,3,4]\n",
    "lst_b=[1,2,3,4]"
   ]
  },
  {
   "cell_type": "code",
   "execution_count": 41,
   "id": "4f329ddd-05fe-4be1-8a32-d583c9cfaf53",
   "metadata": {},
   "outputs": [
    {
     "data": {
      "text/plain": [
       "139632280165248"
      ]
     },
     "execution_count": 41,
     "metadata": {},
     "output_type": "execute_result"
    }
   ],
   "source": [
    "id(lst_a)\n",
    "# return idenetity of object"
   ]
  },
  {
   "cell_type": "code",
   "execution_count": 42,
   "id": "8d938ea9-f440-4ea3-b377-2682939ac633",
   "metadata": {},
   "outputs": [
    {
     "data": {
      "text/plain": [
       "139632280219136"
      ]
     },
     "execution_count": 42,
     "metadata": {},
     "output_type": "execute_result"
    }
   ],
   "source": [
    "id(lst_b)"
   ]
  },
  {
   "cell_type": "code",
   "execution_count": 54,
   "id": "5cf0f401-68f8-47d6-9113-5767d6c265b3",
   "metadata": {},
   "outputs": [
    {
     "data": {
      "text/plain": [
       "True"
      ]
     },
     "execution_count": 54,
     "metadata": {},
     "output_type": "execute_result"
    }
   ],
   "source": [
    "lst_a is lst_b\n",
    "# both have different address"
   ]
  },
  {
   "cell_type": "code",
   "execution_count": 50,
   "id": "c14334ba-a8df-43a1-961f-ce23762558b7",
   "metadata": {},
   "outputs": [],
   "source": [
    "lst_1 = [1,2,3,4]\n",
    "lst_2 = lst_1"
   ]
  },
  {
   "cell_type": "code",
   "execution_count": 51,
   "id": "7d86dc06-123b-438a-9199-74bffd9429c1",
   "metadata": {},
   "outputs": [
    {
     "name": "stdout",
     "output_type": "stream",
     "text": [
      "139632280135104\n",
      "139632280135104\n"
     ]
    }
   ],
   "source": [
    "print(id(lst_1))\n",
    "print(id(lst_2))"
   ]
  },
  {
   "cell_type": "code",
   "execution_count": 52,
   "id": "3bdeba8a-18bf-4790-ace3-54c2549bfc9f",
   "metadata": {},
   "outputs": [
    {
     "data": {
      "text/plain": [
       "True"
      ]
     },
     "execution_count": 52,
     "metadata": {},
     "output_type": "execute_result"
    }
   ],
   "source": [
    "lst_1 is lst_2"
   ]
  },
  {
   "cell_type": "code",
   "execution_count": 55,
   "id": "89f46fce-c1aa-4632-ad44-ebd11e5f6cd6",
   "metadata": {},
   "outputs": [
    {
     "data": {
      "text/plain": [
       "False"
      ]
     },
     "execution_count": 55,
     "metadata": {},
     "output_type": "execute_result"
    }
   ],
   "source": [
    "lst_1 is not lst_2"
   ]
  },
  {
   "cell_type": "code",
   "execution_count": 57,
   "id": "e78d7b0d-46d3-4d09-acb4-fcf94099edc4",
   "metadata": {},
   "outputs": [
    {
     "data": {
      "text/plain": [
       "True"
      ]
     },
     "execution_count": 57,
     "metadata": {},
     "output_type": "execute_result"
    }
   ],
   "source": [
    "lst_1 == lst_2\n",
    "# compare two object"
   ]
  },
  {
   "cell_type": "code",
   "execution_count": 58,
   "id": "514f774b-1350-403d-a6d1-03ca75420e71",
   "metadata": {},
   "outputs": [],
   "source": [
    "a = 2\n",
    "b = 2"
   ]
  },
  {
   "cell_type": "code",
   "execution_count": 59,
   "id": "08d061a1-c596-4417-8a2c-651d73112108",
   "metadata": {},
   "outputs": [
    {
     "name": "stdout",
     "output_type": "stream",
     "text": [
      "139632477520144\n",
      "139632477520144\n"
     ]
    }
   ],
   "source": [
    "print(id(a))\n",
    "print(id(b))"
   ]
  },
  {
   "cell_type": "code",
   "execution_count": 63,
   "id": "3057acf7-5c45-40bc-a43c-f5e46c007e6c",
   "metadata": {},
   "outputs": [],
   "source": [
    "str1 = 'hello'\n",
    "str2 = 'hello'\n",
    "# points to same address hence they have same id - > immutable"
   ]
  },
  {
   "cell_type": "code",
   "execution_count": 61,
   "id": "20ed64a3-6476-4b16-9b97-66d1f0138ba7",
   "metadata": {},
   "outputs": [
    {
     "name": "stdout",
     "output_type": "stream",
     "text": [
      "139632432113392\n",
      "139632432113392\n"
     ]
    }
   ],
   "source": [
    "print(id(str1))\n",
    "print(id(str2))"
   ]
  },
  {
   "cell_type": "code",
   "execution_count": 64,
   "id": "292cf065-2db7-4508-ba85-5201baeff86b",
   "metadata": {},
   "outputs": [
    {
     "name": "stdout",
     "output_type": "stream",
     "text": [
      "139632432113392\n",
      "139632410305712\n"
     ]
    }
   ],
   "source": [
    "str1 = 'hello'\n",
    "str2 = 'hello1'\n",
    "print(id(str1))\n",
    "print(id(str2))"
   ]
  },
  {
   "cell_type": "code",
   "execution_count": 65,
   "id": "fe200f0e-a4c3-473b-944e-668e4396a4fc",
   "metadata": {},
   "outputs": [
    {
     "data": {
      "text/plain": [
       "[1, 2, 3, 4]"
      ]
     },
     "execution_count": 65,
     "metadata": {},
     "output_type": "execute_result"
    }
   ],
   "source": [
    "lst_a"
   ]
  },
  {
   "cell_type": "code",
   "execution_count": 66,
   "id": "8e2fc913-c8c3-40a3-9eed-bb95dbf858c9",
   "metadata": {},
   "outputs": [],
   "source": [
    "lst_a [0] = 10"
   ]
  },
  {
   "cell_type": "code",
   "execution_count": 68,
   "id": "e9e7e486-e209-4b90-861e-806695797988",
   "metadata": {},
   "outputs": [
    {
     "data": {
      "text/plain": [
       "[10, 2, 3, 4]"
      ]
     },
     "execution_count": 68,
     "metadata": {},
     "output_type": "execute_result"
    }
   ],
   "source": [
    "lst_a # list are mutable"
   ]
  },
  {
   "cell_type": "code",
   "execution_count": 69,
   "id": "2b852af2-ea80-4d39-ac00-62cc8d9042b9",
   "metadata": {},
   "outputs": [
    {
     "data": {
      "text/plain": [
       "'hello'"
      ]
     },
     "execution_count": 69,
     "metadata": {},
     "output_type": "execute_result"
    }
   ],
   "source": [
    "str1"
   ]
  },
  {
   "cell_type": "code",
   "execution_count": 71,
   "id": "726ecff4-7dcf-480d-8d8f-345d88a285e3",
   "metadata": {},
   "outputs": [
    {
     "ename": "TypeError",
     "evalue": "'str' object does not support item assignment",
     "output_type": "error",
     "traceback": [
      "\u001b[0;31m---------------------------------------------------------------------------\u001b[0m",
      "\u001b[0;31mTypeError\u001b[0m                                 Traceback (most recent call last)",
      "Cell \u001b[0;32mIn[71], line 1\u001b[0m\n\u001b[0;32m----> 1\u001b[0m \u001b[43mstr1\u001b[49m\u001b[43m[\u001b[49m\u001b[38;5;241;43m0\u001b[39;49m\u001b[43m]\u001b[49m \u001b[38;5;241m=\u001b[39m \u001b[38;5;124m'\u001b[39m\u001b[38;5;124mm\u001b[39m\u001b[38;5;124m'\u001b[39m \u001b[38;5;66;03m# string is immutable\u001b[39;00m\n",
      "\u001b[0;31mTypeError\u001b[0m: 'str' object does not support item assignment"
     ]
    }
   ],
   "source": [
    "str1[0] = 'm' # string is immutable"
   ]
  },
  {
   "cell_type": "markdown",
   "id": "c13af861-b0cb-4382-a8cb-1c42d2bfd3e8",
   "metadata": {},
   "source": [
    "### Comparison Operation\n",
    "    * >\n",
    "    * <\n",
    "    * >=\n",
    "    * <="
   ]
  },
  {
   "cell_type": "code",
   "execution_count": 72,
   "id": "f810dee1-5daa-4a8a-9d7d-96700611647b",
   "metadata": {},
   "outputs": [
    {
     "name": "stdin",
     "output_type": "stream",
     "text": [
      " 2\n",
      " 4\n"
     ]
    }
   ],
   "source": [
    "a = int(input())\n",
    "b = int(input())"
   ]
  },
  {
   "cell_type": "code",
   "execution_count": 73,
   "id": "de43a1a9-ffb2-4845-b0d5-c88b86ea5262",
   "metadata": {},
   "outputs": [
    {
     "data": {
      "text/plain": [
       "False"
      ]
     },
     "execution_count": 73,
     "metadata": {},
     "output_type": "execute_result"
    }
   ],
   "source": [
    "a > b"
   ]
  },
  {
   "cell_type": "code",
   "execution_count": 74,
   "id": "98b4259c-08cb-4dd9-8902-b1e8ad25dba3",
   "metadata": {},
   "outputs": [
    {
     "data": {
      "text/plain": [
       "True"
      ]
     },
     "execution_count": 74,
     "metadata": {},
     "output_type": "execute_result"
    }
   ],
   "source": [
    "a < b"
   ]
  },
  {
   "cell_type": "code",
   "execution_count": 75,
   "id": "a02ee17f-2f81-44db-ab4e-b26971c858ad",
   "metadata": {},
   "outputs": [
    {
     "data": {
      "text/plain": [
       "True"
      ]
     },
     "execution_count": 75,
     "metadata": {},
     "output_type": "execute_result"
    }
   ],
   "source": [
    "a <= b"
   ]
  },
  {
   "cell_type": "markdown",
   "id": "8a9dc206-d764-45bc-862c-0f1ead1fb537",
   "metadata": {},
   "source": [
    "### Arithematics Operator\n",
    "    * + -> Addition\n",
    "    * - -> Substraction\n",
    "    * * -> multiplication\n",
    "    * / ->division\n",
    "    * // -> floor division\n",
    "    * % ->modulo"
   ]
  },
  {
   "cell_type": "code",
   "execution_count": 76,
   "id": "a1ed1dc7-791c-4d06-95f0-158d5ef0e044",
   "metadata": {},
   "outputs": [],
   "source": [
    "a = 10\n",
    "b = 3"
   ]
  },
  {
   "cell_type": "code",
   "execution_count": 77,
   "id": "15a199c4-355e-487a-99cc-ffd1524ea19c",
   "metadata": {},
   "outputs": [
    {
     "data": {
      "text/plain": [
       "13"
      ]
     },
     "execution_count": 77,
     "metadata": {},
     "output_type": "execute_result"
    }
   ],
   "source": [
    "a+b"
   ]
  },
  {
   "cell_type": "code",
   "execution_count": 78,
   "id": "a1495c3d-e8a8-43d5-8a85-bfb27c904545",
   "metadata": {},
   "outputs": [
    {
     "data": {
      "text/plain": [
       "30"
      ]
     },
     "execution_count": 78,
     "metadata": {},
     "output_type": "execute_result"
    }
   ],
   "source": [
    "a*b"
   ]
  },
  {
   "cell_type": "code",
   "execution_count": 79,
   "id": "c50d8b3c-ac1a-4db3-bec5-2bed91926e90",
   "metadata": {},
   "outputs": [
    {
     "data": {
      "text/plain": [
       "7"
      ]
     },
     "execution_count": 79,
     "metadata": {},
     "output_type": "execute_result"
    }
   ],
   "source": [
    "a-b"
   ]
  },
  {
   "cell_type": "code",
   "execution_count": 80,
   "id": "68c9127e-a369-44cc-9a60-4b6c8530383a",
   "metadata": {},
   "outputs": [
    {
     "data": {
      "text/plain": [
       "3.3333333333333335"
      ]
     },
     "execution_count": 80,
     "metadata": {},
     "output_type": "execute_result"
    }
   ],
   "source": [
    "a/b"
   ]
  },
  {
   "cell_type": "code",
   "execution_count": 81,
   "id": "3fd45d19-268a-44b3-9c63-d58895ed657c",
   "metadata": {},
   "outputs": [
    {
     "data": {
      "text/plain": [
       "3"
      ]
     },
     "execution_count": 81,
     "metadata": {},
     "output_type": "execute_result"
    }
   ],
   "source": [
    "a//b"
   ]
  },
  {
   "cell_type": "code",
   "execution_count": 82,
   "id": "92252c5f-8c67-4ae4-8c99-06751be4256f",
   "metadata": {},
   "outputs": [
    {
     "data": {
      "text/plain": [
       "1"
      ]
     },
     "execution_count": 82,
     "metadata": {},
     "output_type": "execute_result"
    }
   ],
   "source": [
    "a%b"
   ]
  },
  {
   "cell_type": "markdown",
   "id": "085b4012-772b-4187-9880-1c465394d2c7",
   "metadata": {},
   "source": [
    "### Bitwise Operator\n",
    "    * ~ -> prefix unary complemenetary \n",
    "    * & -> bitwise and\n",
    "    * | -> bitwise or\n",
    "    * ^ -> bitwise exclusive or\n",
    "    * << -> left shift operator\n",
    "    * >> ->right shift operator"
   ]
  },
  {
   "cell_type": "code",
   "execution_count": 83,
   "id": "2b8fdf3f-5b8c-46e1-b64a-de788c9064a9",
   "metadata": {},
   "outputs": [
    {
     "data": {
      "text/plain": [
       "'0b1010'"
      ]
     },
     "execution_count": 83,
     "metadata": {},
     "output_type": "execute_result"
    }
   ],
   "source": [
    "var = 10\n",
    "bin(var)"
   ]
  },
  {
   "cell_type": "code",
   "execution_count": 84,
   "id": "695a1602-5558-4a61-8953-c9a6a7425d08",
   "metadata": {},
   "outputs": [
    {
     "data": {
      "text/plain": [
       "-11"
      ]
     },
     "execution_count": 84,
     "metadata": {},
     "output_type": "execute_result"
    }
   ],
   "source": [
    "~var"
   ]
  },
  {
   "cell_type": "markdown",
   "id": "9ca2bd7d-9f64-40a5-bd06-d4d5767ad7a7",
   "metadata": {},
   "source": [
    "## Data Structure \n",
    "### String"
   ]
  },
  {
   "cell_type": "code",
   "execution_count": 85,
   "id": "4611f23e-8f88-4775-babe-40a506613665",
   "metadata": {},
   "outputs": [],
   "source": [
    "str1 = \"my name is tanishqa\""
   ]
  },
  {
   "cell_type": "code",
   "execution_count": 86,
   "id": "b1a3e134-7b59-4297-b995-de232016d857",
   "metadata": {},
   "outputs": [
    {
     "data": {
      "text/plain": [
       "str"
      ]
     },
     "execution_count": 86,
     "metadata": {},
     "output_type": "execute_result"
    }
   ],
   "source": [
    "type(str1)"
   ]
  },
  {
   "cell_type": "code",
   "execution_count": 87,
   "id": "6b3ff5be-fbd7-42eb-a4b7-2ade43557371",
   "metadata": {},
   "outputs": [
    {
     "data": {
      "text/plain": [
       "'m'"
      ]
     },
     "execution_count": 87,
     "metadata": {},
     "output_type": "execute_result"
    }
   ],
   "source": [
    "str1[0]"
   ]
  },
  {
   "cell_type": "code",
   "execution_count": 88,
   "id": "7efc15ce-afab-4453-b48f-263df769348b",
   "metadata": {},
   "outputs": [
    {
     "data": {
      "text/plain": [
       "'My name is tanishqa'"
      ]
     },
     "execution_count": 88,
     "metadata": {},
     "output_type": "execute_result"
    }
   ],
   "source": [
    "str1.capitalize()"
   ]
  },
  {
   "cell_type": "code",
   "execution_count": 89,
   "id": "1bef5f9d-6b98-415a-adb4-75f7a5633f10",
   "metadata": {},
   "outputs": [
    {
     "data": {
      "text/plain": [
       "'name is'"
      ]
     },
     "execution_count": 89,
     "metadata": {},
     "output_type": "execute_result"
    }
   ],
   "source": [
    "#slicing\n",
    "# string[start:stop:step] -> [start , stop)\n",
    "str1[3:10]"
   ]
  },
  {
   "cell_type": "code",
   "execution_count": 92,
   "id": "361b3a9c-c803-4ae6-aee6-729f3e48498e",
   "metadata": {},
   "outputs": [
    {
     "data": {
      "text/plain": [
       "'aqhsinat si eman ym'"
      ]
     },
     "execution_count": 92,
     "metadata": {},
     "output_type": "execute_result"
    }
   ],
   "source": [
    "str1[::-1]"
   ]
  },
  {
   "cell_type": "code",
   "execution_count": 93,
   "id": "5c63d7bf-3130-463d-accc-ea83965a47c8",
   "metadata": {},
   "outputs": [
    {
     "data": {
      "text/plain": [
       "'my'"
      ]
     },
     "execution_count": 93,
     "metadata": {},
     "output_type": "execute_result"
    }
   ],
   "source": [
    "str1[0:2]"
   ]
  },
  {
   "cell_type": "code",
   "execution_count": 94,
   "id": "6ca5bd24-f5c6-4811-9eb6-34bf7a72283a",
   "metadata": {},
   "outputs": [
    {
     "data": {
      "text/plain": [
       "'name is tanishqa'"
      ]
     },
     "execution_count": 94,
     "metadata": {},
     "output_type": "execute_result"
    }
   ],
   "source": [
    "str1[3:]"
   ]
  },
  {
   "cell_type": "code",
   "execution_count": 95,
   "id": "389173d8-e5c2-4aff-b642-aed05a54b422",
   "metadata": {},
   "outputs": [
    {
     "data": {
      "text/plain": [
       "'name'"
      ]
     },
     "execution_count": 95,
     "metadata": {},
     "output_type": "execute_result"
    }
   ],
   "source": [
    "str1[3:7]"
   ]
  },
  {
   "cell_type": "code",
   "execution_count": 96,
   "id": "99373df1-fa25-4cef-a830-26f559957eb7",
   "metadata": {},
   "outputs": [
    {
     "data": {
      "text/plain": [
       "'is'"
      ]
     },
     "execution_count": 96,
     "metadata": {},
     "output_type": "execute_result"
    }
   ],
   "source": [
    "str1[8:10]"
   ]
  },
  {
   "cell_type": "code",
   "execution_count": 97,
   "id": "a1921aa4-5694-4460-a556-47d3dcd8d624",
   "metadata": {},
   "outputs": [
    {
     "data": {
      "text/plain": [
       "'tanishqa'"
      ]
     },
     "execution_count": 97,
     "metadata": {},
     "output_type": "execute_result"
    }
   ],
   "source": [
    "str1[11:]"
   ]
  },
  {
   "cell_type": "code",
   "execution_count": 98,
   "id": "83af0c8e-7042-4167-bf15-b3d1f56fea1e",
   "metadata": {},
   "outputs": [
    {
     "data": {
      "text/plain": [
       "'ahia iea m'"
      ]
     },
     "execution_count": 98,
     "metadata": {},
     "output_type": "execute_result"
    }
   ],
   "source": [
    "str1[::-2]"
   ]
  },
  {
   "cell_type": "code",
   "execution_count": 99,
   "id": "036cad94-d3a0-432f-abbd-f63a1292c74f",
   "metadata": {},
   "outputs": [
    {
     "data": {
      "text/plain": [
       "'mnesasa'"
      ]
     },
     "execution_count": 99,
     "metadata": {},
     "output_type": "execute_result"
    }
   ],
   "source": [
    "str1[::3]"
   ]
  },
  {
   "cell_type": "code",
   "execution_count": 102,
   "id": "6ffe387f-ba0d-45d7-a6ce-11fb67e245fa",
   "metadata": {},
   "outputs": [
    {
     "data": {
      "text/plain": [
       "'a'"
      ]
     },
     "execution_count": 102,
     "metadata": {},
     "output_type": "execute_result"
    }
   ],
   "source": [
    "str1[-1]"
   ]
  },
  {
   "cell_type": "code",
   "execution_count": 103,
   "id": "4bf5b40d-a3d3-4321-afab-aa9320e8bbc1",
   "metadata": {},
   "outputs": [
    {
     "data": {
      "text/plain": [
       "'a'"
      ]
     },
     "execution_count": 103,
     "metadata": {},
     "output_type": "execute_result"
    }
   ],
   "source": [
    "str1[-1:]"
   ]
  },
  {
   "cell_type": "code",
   "execution_count": 104,
   "id": "cc2cde94-99d0-424d-b5d0-a2a3a30a32ee",
   "metadata": {},
   "outputs": [
    {
     "data": {
      "text/plain": [
       "'hqa'"
      ]
     },
     "execution_count": 104,
     "metadata": {},
     "output_type": "execute_result"
    }
   ],
   "source": [
    "str1[-3:]"
   ]
  },
  {
   "cell_type": "code",
   "execution_count": 105,
   "id": "63ac30e1-5308-48a0-9d2f-879b4d1c66b4",
   "metadata": {},
   "outputs": [
    {
     "data": {
      "text/plain": [
       "'anis'"
      ]
     },
     "execution_count": 105,
     "metadata": {},
     "output_type": "execute_result"
    }
   ],
   "source": [
    "str1[-7:-3]"
   ]
  },
  {
   "cell_type": "code",
   "execution_count": 106,
   "id": "682a83a5-ba49-4898-adf0-ed36d38f41c8",
   "metadata": {},
   "outputs": [
    {
     "data": {
      "text/plain": [
       "''"
      ]
     },
     "execution_count": 106,
     "metadata": {},
     "output_type": "execute_result"
    }
   ],
   "source": [
    "str1[-7:5]"
   ]
  },
  {
   "cell_type": "code",
   "execution_count": 107,
   "id": "5450e71d-0e4e-449e-b075-8f6e3de0e6c5",
   "metadata": {},
   "outputs": [
    {
     "data": {
      "text/plain": [
       "19"
      ]
     },
     "execution_count": 107,
     "metadata": {},
     "output_type": "execute_result"
    }
   ],
   "source": [
    "len(str1)"
   ]
  },
  {
   "cell_type": "code",
   "execution_count": 108,
   "id": "8686f9f0-5fe1-40a8-9924-d28190f892f1",
   "metadata": {},
   "outputs": [
    {
     "data": {
      "text/plain": [
       "'name is tanishqa'"
      ]
     },
     "execution_count": 108,
     "metadata": {},
     "output_type": "execute_result"
    }
   ],
   "source": [
    "str1[3:25]"
   ]
  },
  {
   "cell_type": "code",
   "execution_count": 109,
   "id": "62cc48f5-13b6-49df-aa09-529bbe76eb88",
   "metadata": {},
   "outputs": [
    {
     "ename": "IndexError",
     "evalue": "string index out of range",
     "output_type": "error",
     "traceback": [
      "\u001b[0;31m---------------------------------------------------------------------------\u001b[0m",
      "\u001b[0;31mIndexError\u001b[0m                                Traceback (most recent call last)",
      "Cell \u001b[0;32mIn[109], line 1\u001b[0m\n\u001b[0;32m----> 1\u001b[0m \u001b[43mstr1\u001b[49m\u001b[43m[\u001b[49m\u001b[38;5;241;43m25\u001b[39;49m\u001b[43m]\u001b[49m\n",
      "\u001b[0;31mIndexError\u001b[0m: string index out of range"
     ]
    }
   ],
   "source": [
    "str1[25]"
   ]
  },
  {
   "cell_type": "code",
   "execution_count": 110,
   "id": "3914118d-f7e0-475c-9782-50eeffa1e86f",
   "metadata": {},
   "outputs": [
    {
     "data": {
      "text/plain": [
       "'my name is tanishq'"
      ]
     },
     "execution_count": 110,
     "metadata": {},
     "output_type": "execute_result"
    }
   ],
   "source": [
    "str1[:-1]"
   ]
  },
  {
   "cell_type": "code",
   "execution_count": 111,
   "id": "2a5f54d2-f533-43a9-8bca-83e5367fb059",
   "metadata": {},
   "outputs": [
    {
     "data": {
      "text/plain": [
       "'my name is tanishqa'"
      ]
     },
     "execution_count": 111,
     "metadata": {},
     "output_type": "execute_result"
    }
   ],
   "source": [
    "str1[:]"
   ]
  },
  {
   "cell_type": "code",
   "execution_count": 112,
   "id": "5dd6123a-9a77-4846-a0c8-c7902d1a8f49",
   "metadata": {},
   "outputs": [
    {
     "data": {
      "text/plain": [
       "'s tanish'"
      ]
     },
     "execution_count": 112,
     "metadata": {},
     "output_type": "execute_result"
    }
   ],
   "source": [
    "str1[-10:17]"
   ]
  },
  {
   "cell_type": "code",
   "execution_count": 113,
   "id": "95dfe947-7d46-4e03-a191-4f75936b8193",
   "metadata": {},
   "outputs": [
    {
     "data": {
      "text/plain": [
       "'science'"
      ]
     },
     "execution_count": 113,
     "metadata": {},
     "output_type": "execute_result"
    }
   ],
   "source": [
    "course_name = \"data science masters\"\n",
    "course_name[5:12]\n"
   ]
  },
  {
   "cell_type": "code",
   "execution_count": 114,
   "id": "d83ff20d-59c9-4164-ace9-87c01b8394fc",
   "metadata": {},
   "outputs": [
    {
     "data": {
      "text/plain": [
       "' ecneics'"
      ]
     },
     "execution_count": 114,
     "metadata": {},
     "output_type": "execute_result"
    }
   ],
   "source": [
    "course_name[12:4:-1]"
   ]
  },
  {
   "cell_type": "code",
   "execution_count": 115,
   "id": "5c39296b-f30f-4226-9c92-79822a1102d0",
   "metadata": {},
   "outputs": [
    {
     "data": {
      "text/plain": [
       "'data science masters course'"
      ]
     },
     "execution_count": 115,
     "metadata": {},
     "output_type": "execute_result"
    }
   ],
   "source": [
    "#concatation\n",
    "course_name + \" course\""
   ]
  },
  {
   "cell_type": "code",
   "execution_count": 117,
   "id": "58cdd974-cbeb-42c4-a2cb-c392716d2a44",
   "metadata": {},
   "outputs": [
    {
     "data": {
      "text/plain": [
       "9"
      ]
     },
     "execution_count": 117,
     "metadata": {},
     "output_type": "execute_result"
    }
   ],
   "source": [
    "#find \n",
    "course_name.find('n')"
   ]
  },
  {
   "cell_type": "code",
   "execution_count": 118,
   "id": "b319e368-e3d0-4953-8219-453f203c7711",
   "metadata": {},
   "outputs": [
    {
     "data": {
      "text/plain": [
       "1"
      ]
     },
     "execution_count": 118,
     "metadata": {},
     "output_type": "execute_result"
    }
   ],
   "source": [
    "course_name.find('a')"
   ]
  },
  {
   "cell_type": "code",
   "execution_count": 119,
   "id": "d5c8cac1-2706-4aaf-a0eb-6291321a9740",
   "metadata": {},
   "outputs": [
    {
     "data": {
      "text/plain": [
       "3"
      ]
     },
     "execution_count": 119,
     "metadata": {},
     "output_type": "execute_result"
    }
   ],
   "source": [
    "course_name.find('a',3,10)"
   ]
  },
  {
   "cell_type": "code",
   "execution_count": 120,
   "id": "e8bb35e4-f2b8-4a23-9515-e701e288ba72",
   "metadata": {},
   "outputs": [
    {
     "data": {
      "text/plain": [
       "-1"
      ]
     },
     "execution_count": 120,
     "metadata": {},
     "output_type": "execute_result"
    }
   ],
   "source": [
    "course_name.find('z')"
   ]
  },
  {
   "cell_type": "code",
   "execution_count": 121,
   "id": "efda94e5-3302-47e8-b15c-00b04a54fe37",
   "metadata": {},
   "outputs": [
    {
     "data": {
      "text/plain": [
       "3"
      ]
     },
     "execution_count": 121,
     "metadata": {},
     "output_type": "execute_result"
    }
   ],
   "source": [
    "#count ()\n",
    "course_name.count('a')"
   ]
  },
  {
   "cell_type": "code",
   "execution_count": 122,
   "id": "92f25e2c-eed3-44f8-b1be-ac918553677f",
   "metadata": {},
   "outputs": [
    {
     "data": {
      "text/plain": [
       "2"
      ]
     },
     "execution_count": 122,
     "metadata": {},
     "output_type": "execute_result"
    }
   ],
   "source": [
    "course_name.count(' ')"
   ]
  },
  {
   "cell_type": "code",
   "execution_count": 123,
   "id": "f7597665-6d01-424f-aa27-17d78c4d2081",
   "metadata": {},
   "outputs": [
    {
     "data": {
      "text/plain": [
       "21"
      ]
     },
     "execution_count": 123,
     "metadata": {},
     "output_type": "execute_result"
    }
   ],
   "source": [
    "course_name.count('')"
   ]
  },
  {
   "cell_type": "code",
   "execution_count": 124,
   "id": "63da6058-fab1-40b3-a27e-083a3f3c2476",
   "metadata": {},
   "outputs": [
    {
     "data": {
      "text/plain": [
       "20"
      ]
     },
     "execution_count": 124,
     "metadata": {},
     "output_type": "execute_result"
    }
   ],
   "source": [
    "len(course_name)"
   ]
  },
  {
   "cell_type": "code",
   "execution_count": 125,
   "id": "9eaa179f-06cb-4885-afb2-238e5c65f95e",
   "metadata": {},
   "outputs": [
    {
     "data": {
      "text/plain": [
       "0"
      ]
     },
     "execution_count": 125,
     "metadata": {},
     "output_type": "execute_result"
    }
   ],
   "source": [
    "course_name.find('data')"
   ]
  },
  {
   "cell_type": "code",
   "execution_count": 126,
   "id": "12ca5aca-a609-4b90-ae0d-bc54727073a6",
   "metadata": {},
   "outputs": [],
   "source": [
    "## string split function"
   ]
  },
  {
   "cell_type": "code",
   "execution_count": 127,
   "id": "e3df85a7-b682-49fe-b27a-e52cb0a4b854",
   "metadata": {},
   "outputs": [
    {
     "data": {
      "text/plain": [
       "['data', 'science', 'masters']"
      ]
     },
     "execution_count": 127,
     "metadata": {},
     "output_type": "execute_result"
    }
   ],
   "source": [
    "course_name.split(' ')"
   ]
  },
  {
   "cell_type": "code",
   "execution_count": 128,
   "id": "e393ed8c-7b2d-4f68-81db-cde8dba7fec1",
   "metadata": {},
   "outputs": [
    {
     "data": {
      "text/plain": [
       "['data ', 'cience ma', 'ter', '']"
      ]
     },
     "execution_count": 128,
     "metadata": {},
     "output_type": "execute_result"
    }
   ],
   "source": [
    "course_name.split('s')"
   ]
  },
  {
   "cell_type": "code",
   "execution_count": 129,
   "id": "a1042555-86a7-434d-a3fb-d267f3a72121",
   "metadata": {},
   "outputs": [
    {
     "data": {
      "text/plain": [
       "['d', 't', ' science m', 'sters']"
      ]
     },
     "execution_count": 129,
     "metadata": {},
     "output_type": "execute_result"
    }
   ],
   "source": [
    "course_name.split('a')"
   ]
  },
  {
   "cell_type": "code",
   "execution_count": 130,
   "id": "367b97a4-e893-4cec-877a-0af70037f850",
   "metadata": {},
   "outputs": [
    {
     "data": {
      "text/plain": [
       "('d', 'a', 'ta science masters')"
      ]
     },
     "execution_count": 130,
     "metadata": {},
     "output_type": "execute_result"
    }
   ],
   "source": [
    "course_name.partition('a')"
   ]
  },
  {
   "cell_type": "code",
   "execution_count": 133,
   "id": "76d7a691-1780-4d18-99b4-aaf9130b5832",
   "metadata": {},
   "outputs": [
    {
     "data": {
      "text/plain": [
       "('data ', 's', 'cience masters')"
      ]
     },
     "execution_count": 133,
     "metadata": {},
     "output_type": "execute_result"
    }
   ],
   "source": [
    "course_name.partition('s') #include separtors as well\n",
    "# do for only first separtor symbol found"
   ]
  },
  {
   "cell_type": "code",
   "execution_count": 134,
   "id": "3ef012a7-1022-4964-a2c6-6a9542846a06",
   "metadata": {},
   "outputs": [
    {
     "data": {
      "text/plain": [
       "'DATA SCIENCE MASTERS'"
      ]
     },
     "execution_count": 134,
     "metadata": {},
     "output_type": "execute_result"
    }
   ],
   "source": [
    "## String upper and lower case\n",
    "course_name.upper()"
   ]
  },
  {
   "cell_type": "code",
   "execution_count": 135,
   "id": "3aec6b5c-76b3-477d-8c64-39b109ecb6e8",
   "metadata": {},
   "outputs": [
    {
     "data": {
      "text/plain": [
       "'data science masters'"
      ]
     },
     "execution_count": 135,
     "metadata": {},
     "output_type": "execute_result"
    }
   ],
   "source": [
    "course_name.lower()"
   ]
  },
  {
   "cell_type": "code",
   "execution_count": 137,
   "id": "f0bf6767-cb6f-4ae5-90ff-30919dd9dd12",
   "metadata": {},
   "outputs": [],
   "source": [
    "course_name = course_name.title()"
   ]
  },
  {
   "cell_type": "code",
   "execution_count": 138,
   "id": "967489b2-f35b-4496-888d-22e3b8907fd3",
   "metadata": {},
   "outputs": [
    {
     "data": {
      "text/plain": [
       "'dATA sCIENCE mASTERS'"
      ]
     },
     "execution_count": 138,
     "metadata": {},
     "output_type": "execute_result"
    }
   ],
   "source": [
    "course_name.swapcase()"
   ]
  },
  {
   "cell_type": "code",
   "execution_count": null,
   "id": "60417d71-c4db-4e6b-9e70-80bf161cbac7",
   "metadata": {},
   "outputs": [],
   "source": []
  }
 ],
 "metadata": {
  "kernelspec": {
   "display_name": "Python 3 (ipykernel)",
   "language": "python",
   "name": "python3"
  },
  "language_info": {
   "codemirror_mode": {
    "name": "ipython",
    "version": 3
   },
   "file_extension": ".py",
   "mimetype": "text/x-python",
   "name": "python",
   "nbconvert_exporter": "python",
   "pygments_lexer": "ipython3",
   "version": "3.10.8"
  }
 },
 "nbformat": 4,
 "nbformat_minor": 5
}
