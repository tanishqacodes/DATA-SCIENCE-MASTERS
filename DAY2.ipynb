{
 "cells": [
  {
   "cell_type": "code",
   "execution_count": 1,
   "id": "4fa31e2d-f8b7-4d6f-8bf5-b270b37df59d",
   "metadata": {},
   "outputs": [
    {
     "name": "stdout",
     "output_type": "stream",
     "text": [
      "Hello\n"
     ]
    }
   ],
   "source": [
    "print('Hello')"
   ]
  },
  {
   "cell_type": "code",
   "execution_count": 2,
   "id": "d28cb608-2447-4d9f-91dc-684340be78fa",
   "metadata": {},
   "outputs": [
    {
     "name": "stdout",
     "output_type": "stream",
     "text": [
      "123\n"
     ]
    }
   ],
   "source": [
    "print(123)"
   ]
  },
  {
   "cell_type": "code",
   "execution_count": 3,
   "id": "d8c9d458-633f-4b38-b447-999aaed28f84",
   "metadata": {},
   "outputs": [
    {
     "name": "stdout",
     "output_type": "stream",
     "text": [
      "My age is :  16\n"
     ]
    }
   ],
   "source": [
    "age = 16\n",
    "print(\"My age is : \",age)"
   ]
  },
  {
   "cell_type": "code",
   "execution_count": 4,
   "id": "7474a33c-cb5e-4a5a-aa0b-657783f79e1f",
   "metadata": {},
   "outputs": [
    {
     "name": "stdout",
     "output_type": "stream",
     "text": [
      "My age is : (age)\n"
     ]
    }
   ],
   "source": [
    "print(\"My age is : (age)\")"
   ]
  },
  {
   "cell_type": "code",
   "execution_count": 6,
   "id": "66754b2d-6268-4876-a954-c04a1916201d",
   "metadata": {},
   "outputs": [
    {
     "name": "stdout",
     "output_type": "stream",
     "text": [
      "My age is :16\n"
     ]
    }
   ],
   "source": [
    "print(f\"My age is :{age}\")     # f string -> formatting"
   ]
  },
  {
   "cell_type": "code",
   "execution_count": 7,
   "id": "75dd2dd9-eb9d-41d1-9e08-bf55d188b566",
   "metadata": {},
   "outputs": [
    {
     "name": "stdout",
     "output_type": "stream",
     "text": [
      "My name is : tanishqa and age is : 18 \n"
     ]
    }
   ],
   "source": [
    "# format way\n",
    "name = \"tanishqa\"\n",
    "age = 18\n",
    "print(\"My name is : {} and age is : {} \".format(name,age))"
   ]
  },
  {
   "cell_type": "code",
   "execution_count": 9,
   "id": "fa6d8b96-2adf-4de3-9ae6-82636ea56013",
   "metadata": {},
   "outputs": [
    {
     "name": "stdout",
     "output_type": "stream",
     "text": [
      "My name is : 18 and age is : tanishqa \n"
     ]
    }
   ],
   "source": [
    "print(\"My name is : {} and age is : {} \".format(age,name))"
   ]
  },
  {
   "cell_type": "code",
   "execution_count": 10,
   "id": "d2d718e0-138d-4aaf-828e-764562fc478c",
   "metadata": {},
   "outputs": [
    {
     "name": "stdout",
     "output_type": "stream",
     "text": [
      "My name is : tanishqa and age is : 18 \n"
     ]
    }
   ],
   "source": [
    "# where n , a is place holder of variable defined in the formate\n",
    "print(\"My name is : {n} and age is : {a} \".format(n = name,a = age))"
   ]
  },
  {
   "cell_type": "code",
   "execution_count": 11,
   "id": "1930406d-74f6-4b96-85e6-a58458b2d57a",
   "metadata": {},
   "outputs": [
    {
     "name": "stdout",
     "output_type": "stream",
     "text": [
      "My name is : tanishqa and age is : 18 \n"
     ]
    }
   ],
   "source": [
    "print(\"My name is : {n} and age is : {a} \".format(a = age,n=name))"
   ]
  },
  {
   "cell_type": "code",
   "execution_count": 12,
   "id": "14a7b5ac-f04a-4a69-94a5-611010b4e50b",
   "metadata": {},
   "outputs": [],
   "source": [
    "degree = \"B.tech\""
   ]
  },
  {
   "cell_type": "code",
   "execution_count": 13,
   "id": "7c8ee89a-c96b-414a-8834-726fe465dea5",
   "metadata": {},
   "outputs": [
    {
     "name": "stdout",
     "output_type": "stream",
     "text": [
      " My age is 18 and I an pursuing B.tech with the name tanishqa\n"
     ]
    }
   ],
   "source": [
    "# My age is 18 and I an pursuing B.tech with the name tanishqa\n",
    "print(f\" My age is {age} and I an pursuing {degree} with the name {name}\")"
   ]
  },
  {
   "cell_type": "code",
   "execution_count": 15,
   "id": "82700b70-0544-4a59-98b7-d1f36d724e5c",
   "metadata": {},
   "outputs": [
    {
     "name": "stdout",
     "output_type": "stream",
     "text": [
      " My age is 18 and I an pursuing B.tech with the name tanishqa\n"
     ]
    }
   ],
   "source": [
    "print(\" My age is {} and I an pursuing {} with the name {}\".format(age,degree,name))"
   ]
  },
  {
   "cell_type": "code",
   "execution_count": 16,
   "id": "5580086f-88a8-422e-92fd-232e0dfb6ce2",
   "metadata": {},
   "outputs": [
    {
     "name": "stdout",
     "output_type": "stream",
     "text": [
      " My age is 18 and I an pursuing B.tech with the name tanishqa\n"
     ]
    }
   ],
   "source": [
    "print(\" My age is {a} and I an pursuing {d} with the name {n}\".format(a = age,d = degree,n = name))"
   ]
  },
  {
   "cell_type": "markdown",
   "id": "b629df00-bf7d-4633-8dad-708ce43e8a9f",
   "metadata": {},
   "source": [
    "## Control flow\n",
    "### Decision making Statement\n",
    "    * It is a kind of making decision occured at situation of programn execution and action can be taken according to specified conditions.\n",
    "    * Structure of decision making evaluate the expressions that provide True or false  as result.\n",
    "    * It is upto you to decide which type of action went to take execute the statement based of result.\n",
    "\n",
    "**There are several topics of decision making...**\n",
    "1. **if**\n",
    "2. **if else**\n",
    "3. **if elif else**\n",
    "4. **Nested if**\n",
    "5. **Single statement suites**\n"
   ]
  },
  {
   "cell_type": "code",
   "execution_count": 17,
   "id": "5e22e872-e853-4131-b621-a110e403bb8e",
   "metadata": {},
   "outputs": [
    {
     "name": "stdout",
     "output_type": "stream",
     "text": [
      "Allowed to vote\n"
     ]
    }
   ],
   "source": [
    "# if statement\n",
    "age = 18\n",
    "if age >= 18 :\n",
    "    print(\"Allowed to vote\")"
   ]
  },
  {
   "cell_type": "code",
   "execution_count": 18,
   "id": "9ccfa9d5-618f-4eb1-ad89-ffb573b86329",
   "metadata": {},
   "outputs": [],
   "source": [
    "age = 10\n",
    "if age >= 18 :\n",
    "    print(\"Allowed to vote\")"
   ]
  },
  {
   "cell_type": "code",
   "execution_count": 22,
   "id": "49e6e896-89cc-452c-9617-d4b014dadcdb",
   "metadata": {},
   "outputs": [
    {
     "name": "stdin",
     "output_type": "stream",
     "text": [
      "Enter your age 17\n"
     ]
    }
   ],
   "source": [
    "age = input(\"Enter your age\")  #input return value into string"
   ]
  },
  {
   "cell_type": "code",
   "execution_count": 23,
   "id": "ff4a4fc6-eefa-4310-af56-e65e2b7ad74a",
   "metadata": {},
   "outputs": [
    {
     "data": {
      "text/plain": [
       "str"
      ]
     },
     "execution_count": 23,
     "metadata": {},
     "output_type": "execute_result"
    }
   ],
   "source": [
    "type(age)"
   ]
  },
  {
   "cell_type": "code",
   "execution_count": 25,
   "id": "3f667445-0da7-4675-b2c7-762e1515a4eb",
   "metadata": {},
   "outputs": [
    {
     "name": "stdin",
     "output_type": "stream",
     "text": [
      "Enter your age 17\n"
     ]
    }
   ],
   "source": [
    "age = int(input(\"Enter your age\"))"
   ]
  },
  {
   "cell_type": "code",
   "execution_count": 26,
   "id": "39c60c9e-67ee-4b7b-83fd-55102d10f2f2",
   "metadata": {},
   "outputs": [
    {
     "name": "stdin",
     "output_type": "stream",
     "text": [
      "Enter your age 26\n"
     ]
    },
    {
     "name": "stdout",
     "output_type": "stream",
     "text": [
      "You are young blood\n"
     ]
    }
   ],
   "source": [
    "##task\n",
    "# take age as input\n",
    "# check whether age >= 18 and age<= 45\n",
    "#display you are young blood\n",
    "age = int(input(\"Enter your age\"))\n",
    "if(age >= 18 and age<= 45):\n",
    "    print(\"You are young blood\")"
   ]
  },
  {
   "cell_type": "code",
   "execution_count": 27,
   "id": "2e408c23-14fd-4568-acd3-74d7eb7363c8",
   "metadata": {},
   "outputs": [
    {
     "name": "stdin",
     "output_type": "stream",
     "text": [
      "Enter your age 17\n"
     ]
    },
    {
     "name": "stdout",
     "output_type": "stream",
     "text": [
      "Thank you We you let you know\n"
     ]
    }
   ],
   "source": [
    "# if else statement\n",
    "age = int(input(\"Enter your age\"))\n",
    "if(age >= 18 and age<= 45):\n",
    "    print(\"You are young blood\")\n",
    "else :\n",
    "    print(\"Thank you We you let you know\")"
   ]
  },
  {
   "cell_type": "code",
   "execution_count": 28,
   "id": "85a0e42c-3878-4614-9378-985c3ae653e3",
   "metadata": {},
   "outputs": [
    {
     "name": "stdin",
     "output_type": "stream",
     "text": [
      "Enter product price 1000\n"
     ]
    },
    {
     "name": "stdout",
     "output_type": "stream",
     "text": [
      "Final price of the product : 700.0\n"
     ]
    }
   ],
   "source": [
    "# in mall product price \n",
    "# if price > 1000 -> discount of 20 %\n",
    "# price <= 1000 -> discount of 30%\n",
    "# printy the  final product price\n",
    "price = int(input(\"Enter product price\"))\n",
    "if (price >  1000):\n",
    "    price = price - (price * 0.2)\n",
    "else :\n",
    "    price = price - (price * 0.3)\n",
    "print(f\"Final price of the product : {price}\")\n"
   ]
  },
  {
   "cell_type": "code",
   "execution_count": 31,
   "id": "f95f1517-93af-4773-ba2d-cf89cabd8a05",
   "metadata": {},
   "outputs": [
    {
     "name": "stdin",
     "output_type": "stream",
     "text": [
      "Enter product price 100\n"
     ]
    },
    {
     "name": "stdout",
     "output_type": "stream",
     "text": [
      "Final product price : 50.0\n"
     ]
    }
   ],
   "source": [
    "''' ** else if statement **\n",
    "'''\n",
    "# in mall product price \n",
    "# if price >= 3000 -> discount of 20 %\n",
    "# price >= 2000 and <3000 -> 30% off\n",
    "# price >= 1000  and < 2000-> discount of 40%\n",
    "# price < 1000 ->50 % off\n",
    "# printy the  final product price\n",
    "price = int(input(\"Enter product price\"))\n",
    "if(price>=3000):\n",
    "    print(\"Final product price : {}\".format(price*0.8))\n",
    "elif(price >=2000 and price < 3000):\n",
    "    print(\"Final product price : {}\".format(price*0.7))\n",
    "elif(price >=1000 and price <2000):\n",
    "    print(\"Final product price : {}\".format(price*0.6))\n",
    "else:\n",
    "    print(\"Final product price : {}\".format(price*0.5))"
   ]
  },
  {
   "cell_type": "code",
   "execution_count": 32,
   "id": "d8251f44-1b1e-4f8f-8360-c53f08fd9580",
   "metadata": {},
   "outputs": [
    {
     "name": "stdin",
     "output_type": "stream",
     "text": [
      "Enter product price 2999\n"
     ]
    },
    {
     "name": "stdout",
     "output_type": "stream",
     "text": [
      "Congratulations ! you won special gift\n",
      "Final product price : 2099.2999999999997\n"
     ]
    }
   ],
   "source": [
    "''' ** Nested if **\n",
    "'''\n",
    "#price == 2999 ->additional gift\n",
    "price = int(input(\"Enter product price\"))\n",
    "if(price>=3000):\n",
    "    print(\"Final product price : {}\".format(price*0.8))\n",
    "elif(price >=2000 and price < 3000):\n",
    "    if(price == 2999):\n",
    "        print(\"Congratulations ! you won special gift\")\n",
    "    print(\"Final product price : {}\".format(price*0.7))\n",
    "elif(price >=1000 and price <2000):\n",
    "    print(\"Final product price : {}\".format(price*0.6))\n",
    "else:\n",
    "    print(\"Final product price : {}\".format(price*0.5))"
   ]
  },
  {
   "cell_type": "code",
   "execution_count": 33,
   "id": "3063aa1b-2a7a-46b1-b8fa-7e429ceae249",
   "metadata": {},
   "outputs": [
    {
     "name": "stdin",
     "output_type": "stream",
     "text": [
      "Enter number 90\n"
     ]
    },
    {
     "name": "stdout",
     "output_type": "stream",
     "text": [
      "Additional gift\n"
     ]
    }
   ],
   "source": [
    "# Single statement suites\n",
    "val = int(input(\"Enter number\"))\n",
    "if val<=99 : print(\"Additional gift\")"
   ]
  },
  {
   "cell_type": "code",
   "execution_count": 34,
   "id": "7ba50b05-d733-4e85-aacd-8e6748c86be7",
   "metadata": {},
   "outputs": [
    {
     "name": "stdin",
     "output_type": "stream",
     "text": [
      "Enter number 100\n"
     ]
    },
    {
     "name": "stdout",
     "output_type": "stream",
     "text": [
      "Go home\n"
     ]
    }
   ],
   "source": [
    "val = int(input(\"Enter number\"))\n",
    "if val<=99 : print(\"Additional gift\")\n",
    "else :  print(\"Go home\")"
   ]
  },
  {
   "cell_type": "markdown",
   "id": "b4f42234-a708-4ee6-82b0-e29b17555aca",
   "metadata": {},
   "source": [
    "### Loop statement\n",
    "**There are several loops...**\n",
    "1. **while**\n",
    "2. **for**\n",
    "3. **nested loop**\n",
    "4. **Loop control**\n",
    "    * break\n",
    "    * continue\n",
    "    * pass\n",
    "    "
   ]
  },
  {
   "cell_type": "code",
   "execution_count": 38,
   "id": "7a1af910-9e7c-4045-babf-60f2fd89f500",
   "metadata": {},
   "outputs": [
    {
     "name": "stdout",
     "output_type": "stream",
     "text": [
      "Time for returement\n",
      "35\n"
     ]
    }
   ],
   "source": [
    "# while loop\n",
    "joining_age = 25\n",
    "retirement_age = 60\n",
    "service_year = 0\n",
    "while joining_age < retirement_age:\n",
    "    service_year+=1\n",
    "    joining_age+=1\n",
    "else :\n",
    "    print(\"Time for returement\")\n",
    "print(service_year)\n"
   ]
  },
  {
   "cell_type": "code",
   "execution_count": 39,
   "id": "8b3fa99d-a93e-42a2-a951-ed7d8d4e1dc4",
   "metadata": {},
   "outputs": [
    {
     "name": "stdout",
     "output_type": "stream",
     "text": [
      "1000\n",
      "900\n",
      "800\n",
      "700\n",
      "600\n",
      "500\n",
      "400\n",
      "300\n",
      "200\n",
      "100\n",
      "Paise bharo\n"
     ]
    }
   ],
   "source": [
    "# atm machiine\n",
    "total_amount = 1000\n",
    "while total_amount!=0:\n",
    "    print(total_amount)\n",
    "    total_amount-=100\n",
    "print(\"Paise bharo\")"
   ]
  },
  {
   "cell_type": "code",
   "execution_count": 40,
   "id": "5595907d-2e31-41bb-837e-4687a6408cb1",
   "metadata": {},
   "outputs": [
    {
     "data": {
      "text/plain": [
       "list"
      ]
     },
     "execution_count": 40,
     "metadata": {},
     "output_type": "execute_result"
    }
   ],
   "source": [
    "#for loop\n",
    "lst = [\"apple\",1,2,3,\"banana\",1.0,'cat']\n",
    "type(lst)"
   ]
  },
  {
   "cell_type": "code",
   "execution_count": 41,
   "id": "33d48a6b-16c5-4f2c-9f90-eb8b5b89f75d",
   "metadata": {},
   "outputs": [
    {
     "name": "stdout",
     "output_type": "stream",
     "text": [
      "apple\n",
      "1\n",
      "2\n",
      "3\n",
      "banana\n",
      "1.0\n",
      "cat\n"
     ]
    }
   ],
   "source": [
    "for x in lst:\n",
    "    print(x)"
   ]
  },
  {
   "cell_type": "code",
   "execution_count": 46,
   "id": "fe2c080b-e5e8-4b9a-b030-c5c2984186ef",
   "metadata": {},
   "outputs": [
    {
     "name": "stdout",
     "output_type": "stream",
     "text": [
      "apple banana mango Fruit is cherry cherry kiwi "
     ]
    }
   ],
   "source": [
    "fruits = ['apple','banana','mango','cherry','kiwi']\n",
    "for a in fruits:\n",
    "    if(a=='cherry'):\n",
    "        print(\"Fruit is cherry\",end=\" \" )\n",
    "    print(a ,end =\" \")"
   ]
  },
  {
   "cell_type": "code",
   "execution_count": 47,
   "id": "e36a8d6d-70e2-40f7-abad-8658bc3be685",
   "metadata": {},
   "outputs": [
    {
     "name": "stdout",
     "output_type": "stream",
     "text": [
      "m\n",
      "a\n",
      "n\n",
      "g\n",
      "o\n"
     ]
    }
   ],
   "source": [
    "fruit = 'mango'\n",
    "for x in fruit:\n",
    "    print(x)"
   ]
  },
  {
   "cell_type": "code",
   "execution_count": 48,
   "id": "8dc225fc-8d55-4b1c-96ed-47d597429c6b",
   "metadata": {},
   "outputs": [
    {
     "data": {
      "text/plain": [
       "'m'"
      ]
     },
     "execution_count": 48,
     "metadata": {},
     "output_type": "execute_result"
    }
   ],
   "source": [
    "fruit[0]"
   ]
  },
  {
   "cell_type": "code",
   "execution_count": 49,
   "id": "847a6f1b-5b42-4f16-a49e-a9a32eae5a41",
   "metadata": {},
   "outputs": [
    {
     "data": {
      "text/plain": [
       "'n'"
      ]
     },
     "execution_count": 49,
     "metadata": {},
     "output_type": "execute_result"
    }
   ],
   "source": [
    "fruit[2]"
   ]
  },
  {
   "cell_type": "code",
   "execution_count": 50,
   "id": "d91ae30a-e91f-4c77-b7b3-9bda14c8578c",
   "metadata": {},
   "outputs": [
    {
     "ename": "IndexError",
     "evalue": "string index out of range",
     "output_type": "error",
     "traceback": [
      "\u001b[0;31m---------------------------------------------------------------------------\u001b[0m",
      "\u001b[0;31mIndexError\u001b[0m                                Traceback (most recent call last)",
      "Cell \u001b[0;32mIn[50], line 1\u001b[0m\n\u001b[0;32m----> 1\u001b[0m \u001b[43mfruit\u001b[49m\u001b[43m[\u001b[49m\u001b[38;5;241;43m5\u001b[39;49m\u001b[43m]\u001b[49m\n",
      "\u001b[0;31mIndexError\u001b[0m: string index out of range"
     ]
    }
   ],
   "source": [
    "fruit[5]"
   ]
  },
  {
   "cell_type": "code",
   "execution_count": 52,
   "id": "935875c9-75c0-4e51-a531-535515f191d4",
   "metadata": {},
   "outputs": [
    {
     "name": "stdout",
     "output_type": "stream",
     "text": [
      "1\n",
      "2\n",
      "3\n",
      "4\n",
      "5\n",
      "6\n",
      "7\n",
      "8\n",
      "9\n"
     ]
    }
   ],
   "source": [
    "for i in range(1,10):\n",
    "    print(i)"
   ]
  },
  {
   "cell_type": "code",
   "execution_count": 53,
   "id": "1d2e1f6a-8c5b-4bbe-ad63-223000746e06",
   "metadata": {},
   "outputs": [
    {
     "name": "stdout",
     "output_type": "stream",
     "text": [
      "1\n",
      "3\n",
      "5\n",
      "7\n",
      "9\n"
     ]
    }
   ],
   "source": [
    "for x in range(1,11,2):\n",
    "    print(x)"
   ]
  },
  {
   "cell_type": "code",
   "execution_count": 58,
   "id": "5eff083c-a788-42a6-8f14-f0b4715c9fb1",
   "metadata": {},
   "outputs": [
    {
     "name": "stdout",
     "output_type": "stream",
     "text": [
      "*\n",
      "**\n",
      "***\n",
      "****\n",
      "*****\n",
      "******\n",
      "*******\n"
     ]
    }
   ],
   "source": [
    "## Nested loops\n",
    "n=7\n",
    "for i in range(0,n):\n",
    "    for j in range(0,i+1):\n",
    "        print('*',end='')\n",
    "    print()"
   ]
  },
  {
   "cell_type": "code",
   "execution_count": 59,
   "id": "1163ad3d-64b6-482b-b000-1591d47f88a0",
   "metadata": {},
   "outputs": [
    {
     "name": "stdout",
     "output_type": "stream",
     "text": [
      "*\n",
      "**\n",
      "***\n",
      "****\n",
      "*****\n",
      "******\n",
      "*******\n"
     ]
    }
   ],
   "source": [
    "## Nested loops\n",
    "n=7\n",
    "for i in range(0,n):\n",
    "    for j in range(0,i+1):\n",
    "        print('*',end='')\n",
    "    print('\\r') \n",
    "    '''\n",
    "    \"\\r\" is a carriage return\n",
    "    '''"
   ]
  },
  {
   "cell_type": "code",
   "execution_count": 60,
   "id": "ae854897-c1f1-48a7-b4a7-191ca458cac7",
   "metadata": {},
   "outputs": [
    {
     "data": {
      "text/plain": [
       "'\\nbreak ->  terminate the loop immediately when it is encountered.\\ncontinue -> to skip the current iteration of the loop and the control flow of the program goes to the next iteration.\\n'"
      ]
     },
     "execution_count": 60,
     "metadata": {},
     "output_type": "execute_result"
    }
   ],
   "source": [
    "## loop contorl\n",
    "'''\n",
    "break ->  terminate the loop immediately when it is encountered.\n",
    "continue -> to skip the current iteration of the loop and the control flow of the program goes to the next iteration.\n",
    "'''"
   ]
  },
  {
   "cell_type": "code",
   "execution_count": 63,
   "id": "201531bb-5718-403f-95cc-d3a886a4ed36",
   "metadata": {},
   "outputs": [
    {
     "name": "stdout",
     "output_type": "stream",
     "text": [
      "apple banana mango Fruit is cherry "
     ]
    }
   ],
   "source": [
    "fruits = ['apple','banana','mango','cherry','kiwi']\n",
    "for a in fruits:\n",
    "    if(a=='cherry'):\n",
    "        print(\"Fruit is cherry\",end=\" \" )\n",
    "        break\n",
    "    print(a ,end =\" \")"
   ]
  },
  {
   "cell_type": "code",
   "execution_count": 2,
   "id": "4984b1ca-189c-46f3-8760-3ecd3ac82cec",
   "metadata": {},
   "outputs": [
    {
     "name": "stdin",
     "output_type": "stream",
     "text": [
      "Enter number 4\n"
     ]
    },
    {
     "name": "stdout",
     "output_type": "stream",
     "text": [
      "      * \n",
      "     * * \n",
      "    * * * \n",
      "   * * * * \n"
     ]
    }
   ],
   "source": [
    "size = int(input(\"Enter number\"))\n",
    "m = (2 * size) - 2\n",
    "for i in range(0, size):\n",
    "    # for blank space\n",
    "    for j in range(0, m):\n",
    "        print(end=\" \")\n",
    "    m = m - 1  \n",
    "    # for * pattern\n",
    "    for j in range(0, i + 1):\n",
    "        print(\"*\", end=' ')\n",
    "    print()"
   ]
  },
  {
   "cell_type": "code",
   "execution_count": null,
   "id": "75c1c9f0-4c0d-4ab2-a70d-9c8ac1c4b895",
   "metadata": {},
   "outputs": [],
   "source": []
  }
 ],
 "metadata": {
  "kernelspec": {
   "display_name": "Python 3 (ipykernel)",
   "language": "python",
   "name": "python3"
  },
  "language_info": {
   "codemirror_mode": {
    "name": "ipython",
    "version": 3
   },
   "file_extension": ".py",
   "mimetype": "text/x-python",
   "name": "python",
   "nbconvert_exporter": "python",
   "pygments_lexer": "ipython3",
   "version": "3.10.8"
  }
 },
 "nbformat": 4,
 "nbformat_minor": 5
}
