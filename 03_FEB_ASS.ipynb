{
  "nbformat": 4,
  "nbformat_minor": 0,
  "metadata": {
    "colab": {
      "provenance": [],
      "authorship_tag": "ABX9TyPzbx/RY/LJPVsjZCgw/Kwq",
      "include_colab_link": true
    },
    "kernelspec": {
      "name": "python3",
      "display_name": "Python 3"
    },
    "language_info": {
      "name": "python"
    }
  },
  "cells": [
    {
      "cell_type": "markdown",
      "metadata": {
        "id": "view-in-github",
        "colab_type": "text"
      },
      "source": [
        "<a href=\"https://colab.research.google.com/github/tanishqacodes/DATA-SCIENCE-MASTERS/blob/main/03_FEB_ASS.ipynb\" target=\"_parent\"><img src=\"https://colab.research.google.com/assets/colab-badge.svg\" alt=\"Open In Colab\"/></a>"
      ]
    },
    {
      "cell_type": "markdown",
      "source": [
        "### Q1. Which keyword is used to create a function? Create a function to return a list of odd numbers in the range of 1 to 25.\n",
        " \n",
        "**def** keyword is used to create function\n"
      ],
      "metadata": {
        "id": "ksc27wP4xqNt"
      }
    },
    {
      "cell_type": "code",
      "source": [
        "def oddnumbers():\n",
        "  for i in range(1,26):\n",
        "    if i%2!=0:\n",
        "      print(i)\n",
        "oddnumbers()"
      ],
      "metadata": {
        "colab": {
          "base_uri": "https://localhost:8080/"
        },
        "id": "PJlcfeBvx5P0",
        "outputId": "487270c1-8ac9-461a-bbf3-ec3aba458673"
      },
      "execution_count": 3,
      "outputs": [
        {
          "output_type": "stream",
          "name": "stdout",
          "text": [
            "1\n",
            "3\n",
            "5\n",
            "7\n",
            "9\n",
            "11\n",
            "13\n",
            "15\n",
            "17\n",
            "19\n",
            "21\n",
            "23\n",
            "25\n"
          ]
        }
      ]
    },
    {
      "cell_type": "markdown",
      "source": [
        "### Q2. Why *args and **kwargs is used in some functions? Create a function each for *args and **kwargs to demonstrate their use.\n",
        "** 1. *args (Non Keyword Arguments) ** Python has *args which allow us to pass the variable number of non keyword arguments to function.\n",
        "\n",
        "** 2. **kwargs (Keyword Arguments) ** Python passes variable length non keyword argument to function using *args but we cannot use this to pass keyword argument. For this problem Python has got a solution called **kwargs, it allows us to pass the variable length of keyword arguments to the function."
      ],
      "metadata": {
        "id": "bwXyILB5yZ31"
      }
    },
    {
      "cell_type": "code",
      "source": [
        "## keyword argument\n",
        "def detail(**data):\n",
        "    print(\"\\nData type of argument:\",type(data))\n",
        "\n",
        "    for key, value in data.items():\n",
        "        print(\"{} is {}\".format(key,value))\n",
        "\n",
        "detail(Firstname=\"Rohan\", Lastname=\"Sharma\", Age=22, Phone=1234567890)\n",
        "detail(Firstname=\"sohan\", Lastname=\"tiwari\", Email=\"so@gmail.com\", Country=\"india\", Age=25, Phone=9876543210)"
      ],
      "metadata": {
        "colab": {
          "base_uri": "https://localhost:8080/"
        },
        "id": "F3b6i3bqyKO8",
        "outputId": "179868a8-fea3-482c-886d-65490738713d"
      },
      "execution_count": 6,
      "outputs": [
        {
          "output_type": "stream",
          "name": "stdout",
          "text": [
            "\n",
            "Data type of argument: <class 'dict'>\n",
            "Firstname is Rohan\n",
            "Lastname is Sharma\n",
            "Age is 22\n",
            "Phone is 1234567890\n",
            "\n",
            "Data type of argument: <class 'dict'>\n",
            "Firstname is sohan\n",
            "Lastname is tiwari\n",
            "Email is so@gmail.com\n",
            "Country is india\n",
            "Age is 25\n",
            "Phone is 9876543210\n"
          ]
        }
      ]
    },
    {
      "cell_type": "code",
      "source": [
        "## variable argument\n",
        "def add(*num):\n",
        "    sum = 0\n",
        "    \n",
        "    for n in num:\n",
        "        sum = sum + n\n",
        "\n",
        "    print(\"Sum:\",sum)\n",
        "\n",
        "add(3,5)\n",
        "add(4,5,6,7)\n",
        "add(12,45,67,89,12,45)"
      ],
      "metadata": {
        "colab": {
          "base_uri": "https://localhost:8080/"
        },
        "id": "RkdecC4RzuDO",
        "outputId": "c47b7111-5cb2-403c-c112-d29b1ad20074"
      },
      "execution_count": 8,
      "outputs": [
        {
          "output_type": "stream",
          "name": "stdout",
          "text": [
            "Sum: 8\n",
            "Sum: 22\n",
            "Sum: 270\n"
          ]
        }
      ]
    },
    {
      "cell_type": "markdown",
      "source": [
        "### Q3. What is an iterator in python? Name the method used to initialise the iterator object and the method used for iteration. Use these methods to print the first five elements of the given list [2, 4, 6, 8, 10, 12, 14, 16, 18, 20].\n",
        "**Iterator**\n",
        "* An iterator is an object that contains a countable number of values. An iterator is an object that can be iterated upon, meaning that you can traverse through all the values.\n",
        "* in Python, an iterator is an object which implements the iterator protocol, which consist of the methods *__iter__()* and *__next__()* ."
      ],
      "metadata": {
        "id": "JqWVFPfi0nvE"
      }
    },
    {
      "cell_type": "code",
      "source": [
        "lst =  [2, 4, 6, 8, 10, 12, 14, 16, 18, 20]\n",
        "it = iter(lst)\n",
        "\n",
        "print(next(it))\n",
        "print(next(it))\n",
        "print(next(it))\n",
        "print(next(it))\n",
        "print(next(it))"
      ],
      "metadata": {
        "colab": {
          "base_uri": "https://localhost:8080/"
        },
        "id": "mUFXmHBL0T5V",
        "outputId": "2205dc9b-4355-46fa-ae41-599acfc64c7c"
      },
      "execution_count": 10,
      "outputs": [
        {
          "output_type": "stream",
          "name": "stdout",
          "text": [
            "2\n",
            "4\n",
            "6\n",
            "8\n",
            "10\n"
          ]
        }
      ]
    },
    {
      "cell_type": "markdown",
      "source": [
        "### Q4. What is a generator function in python? Why yield keyword is used? Give an example of a generator function.\n",
        "* A generator function in Python is a special type of function that uses the yield keyword instead of return to return values. When a generator function is called, it returns a generator object, which can be iterated over using a for loop or the next function.\n",
        "* The *yield* keyword allows the generator function to produce a value and then pause execution, preserving its state so that it can resume where it left off the next time it's called."
      ],
      "metadata": {
        "id": "RpebuAXB4m38"
      }
    },
    {
      "cell_type": "code",
      "source": [
        "def fun():\n",
        "    yield \"Hello world!!\"\n",
        "    yield \"data science masters\"\n",
        " \n",
        " \n",
        "obj = fun()\n",
        " \n",
        "print(type(obj))\n",
        "print(next(obj))\n",
        "print(next(obj))"
      ],
      "metadata": {
        "colab": {
          "base_uri": "https://localhost:8080/"
        },
        "id": "4IHFwhqP4VSF",
        "outputId": "15e75c79-2731-4f64-9a7f-8e14ad6c2483"
      },
      "execution_count": 11,
      "outputs": [
        {
          "output_type": "stream",
          "name": "stdout",
          "text": [
            "<class 'generator'>\n",
            "Hello world!!\n",
            "data science masters\n"
          ]
        }
      ]
    },
    {
      "cell_type": "markdown",
      "source": [
        "### Q5. Create a generator function for prime numbers less than 1000. Use the next() method to print the first 20 prime numbers.\n"
      ],
      "metadata": {
        "id": "n2m6VD0r5aZr"
      }
    },
    {
      "cell_type": "code",
      "source": [
        "def prime():\n",
        "    yield 2\n",
        "    primes = [2]\n",
        "    num = 3\n",
        "    while num < 1000:\n",
        "        is_prime = True\n",
        "        for prime in primes:\n",
        "            if num % prime == 0:\n",
        "                is_prime = False\n",
        "                break\n",
        "        if is_prime:\n",
        "            primes.append(num)\n",
        "            yield num\n",
        "        num += 2\n",
        "gen = prime()\n",
        "print(\"First 20 prime numbers:\")\n",
        "for i in range(20):\n",
        "    print(next(gen))\n"
      ],
      "metadata": {
        "colab": {
          "base_uri": "https://localhost:8080/"
        },
        "id": "7up7oxU75Yh8",
        "outputId": "470fc348-818b-40fe-abfb-b0b8879e181e"
      },
      "execution_count": 12,
      "outputs": [
        {
          "output_type": "stream",
          "name": "stdout",
          "text": [
            "First 20 prime numbers:\n",
            "2\n",
            "3\n",
            "5\n",
            "7\n",
            "11\n",
            "13\n",
            "17\n",
            "19\n",
            "23\n",
            "29\n",
            "31\n",
            "37\n",
            "41\n",
            "43\n",
            "47\n",
            "53\n",
            "59\n",
            "61\n",
            "67\n",
            "71\n"
          ]
        }
      ]
    },
    {
      "cell_type": "code",
      "source": [],
      "metadata": {
        "id": "tsFvSHbb5xqb"
      },
      "execution_count": null,
      "outputs": []
    }
  ]
}