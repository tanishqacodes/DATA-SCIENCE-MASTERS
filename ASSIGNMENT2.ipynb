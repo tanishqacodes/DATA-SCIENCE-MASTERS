{
  "nbformat": 4,
  "nbformat_minor": 0,
  "metadata": {
    "colab": {
      "provenance": [],
      "toc_visible": true,
      "authorship_tag": "ABX9TyPBYqJmFhuUHjLUOC1EhEwo",
      "include_colab_link": true
    },
    "kernelspec": {
      "name": "python3",
      "display_name": "Python 3"
    },
    "language_info": {
      "name": "python"
    }
  },
  "cells": [
    {
      "cell_type": "markdown",
      "metadata": {
        "id": "view-in-github",
        "colab_type": "text"
      },
      "source": [
        "<a href=\"https://colab.research.google.com/github/tanishqacodes/DATA-SCIENCE-MASTERS/blob/main/ASSIGNMENT2.ipynb\" target=\"_parent\"><img src=\"https://colab.research.google.com/assets/colab-badge.svg\" alt=\"Open In Colab\"/></a>"
      ]
    },
    {
      "cell_type": "markdown",
      "source": [
        "### ASSIGNMENT 2\n",
        "#### 1. Write a program to accept percentage from the user and display the grade according to the following criteria: \n",
        "|MARKS | GRADE|\n",
        "|-|-|\n",
        "|**>90**|A|\n",
        "|**>80 AND <=90**|B|\n",
        "|**>=60 AND <=80**|C| \n",
        "|**BELOW 60**|D|\n",
        "\n"
      ],
      "metadata": {
        "id": "A99P16WuvuUK"
      }
    },
    {
      "cell_type": "code",
      "source": [
        "marks = float(input('Enter total percetage : '))\n",
        "print('Grade : ', end='')\n",
        "if marks>90 :\n",
        "    print('A')\n",
        "elif marks>80 and marks<=90 :\n",
        "    print('B')\n",
        "elif marks>=60 and marks<=80 :\n",
        "    print('C')\n",
        "else : print('D')"
      ],
      "metadata": {
        "colab": {
          "base_uri": "https://localhost:8080/"
        },
        "id": "MWLCHbeSwmov",
        "outputId": "fa7285fa-fc52-4262-fdb0-cd1660957a51"
      },
      "execution_count": 1,
      "outputs": [
        {
          "output_type": "stream",
          "name": "stdout",
          "text": [
            "Enter total percetage : 75\n",
            "Grade : C\n"
          ]
        }
      ]
    },
    {
      "cell_type": "markdown",
      "source": [
        "#### 2. Write a program to accept the cost price of a bike and display the road tax to be paid according to the following criteria: \n",
        "\n",
        "|TAX | COST PRICE|\n",
        "|-|-|\n",
        "|**15%**|>100000|\n",
        "|**10%**|>50000 and <= 100000|\n",
        "|**5%**|<=50000| "
      ],
      "metadata": {
        "id": "2LJJtUcNw0HO"
      }
    },
    {
      "cell_type": "code",
      "source": [
        "cost = float(input('Enter total cost : '))\n",
        "print('Road Tax : ', end='')\n",
        "if cost>100000 :\n",
        "  print('15%')\n",
        "elif cost > 50000 and cost <= 100000 :\n",
        "  print('10%')\n",
        "else : print('5%')\n"
      ],
      "metadata": {
        "colab": {
          "base_uri": "https://localhost:8080/"
        },
        "id": "vCEC1Ebuw3HL",
        "outputId": "5765d59a-86e2-455e-9bc2-3cedc1ae2d89"
      },
      "execution_count": 2,
      "outputs": [
        {
          "output_type": "stream",
          "name": "stdout",
          "text": [
            "Enter total cost : 150000\n",
            "Road Tax : 15%\n"
          ]
        }
      ]
    },
    {
      "cell_type": "markdown",
      "source": [
        "#### 3. Accept any city from the user and display monuments of that city. \n",
        "\n",
        "|CITY | MONUMENTS|\n",
        "|-|-|\n",
        "|**Delhi**|Red Fort|\n",
        "|**Agra**|Taj Mahal|\n",
        "|**Jaipur**|Jal Mahal| \n"
      ],
      "metadata": {
        "id": "yoNR9adxxATx"
      }
    },
    {
      "cell_type": "code",
      "source": [
        "city = input('Enter city name : ')\n",
        "print('Monument : ', end='')\n",
        "if city=='Delhi':\n",
        "  print('Red Fort')\n",
        "elif city=='Agra':\n",
        "  print('Taj Mahal')\n",
        "elif city=='Jaipur':\n",
        "  print('Jal Mahal')"
      ],
      "metadata": {
        "colab": {
          "base_uri": "https://localhost:8080/"
        },
        "id": "oo0pOLAexJXc",
        "outputId": "c7b7ee83-4c4b-4921-f585-7e222def352f"
      },
      "execution_count": 3,
      "outputs": [
        {
          "output_type": "stream",
          "name": "stdout",
          "text": [
            "Enter city name : Delhi\n",
            "Monument : Red Fort\n"
          ]
        }
      ]
    },
    {
      "cell_type": "markdown",
      "source": [
        "#### 4. Check how many times a given number can be divided by 3 before it is less than or equal to 10. \n"
      ],
      "metadata": {
        "id": "BnqbQ5Q5ygyJ"
      }
    },
    {
      "cell_type": "code",
      "source": [
        "n = int(input('Enter number : '))\n",
        "print('Count is : ', end='')\n",
        "count = 0;\n",
        "while n>10:\n",
        "    count+=1;\n",
        "    n/=3;\n",
        "print(count)"
      ],
      "metadata": {
        "colab": {
          "base_uri": "https://localhost:8080/"
        },
        "id": "C0fQbnu3xO2V",
        "outputId": "21284a6e-7d40-4dae-fae2-72a900bf287e"
      },
      "execution_count": 4,
      "outputs": [
        {
          "output_type": "stream",
          "name": "stdout",
          "text": [
            "Enter number : 27\n",
            "Count is : 1\n"
          ]
        }
      ]
    },
    {
      "cell_type": "markdown",
      "source": [
        "#### 5. Why and When to Use while Loop in Python give a detailed description with example.\n",
        "* A while loop in Python is used to repeatedly execute a block of code as long as a certain condition is met. The structure of a while loop in Python is as follows:\n",
        "\n",
        "* while condition:\n",
        "    ##### code to be executed\n",
        "* The code inside the loop will be executed as long as the condition is true. Once the condition becomes false, the loop will stop and the program will continue to execute the next line of code after the loop."
      ],
      "metadata": {
        "id": "Qk9IwxVjynsg"
      }
    },
    {
      "cell_type": "code",
      "source": [
        "# sum of digits\n",
        "n = int(input(\"Enter number\"))\n",
        "sum = 0\n",
        "while n!=0:\n",
        "    sum += n%10\n",
        "    n//=10 \n",
        "print(sum)"
      ],
      "metadata": {
        "colab": {
          "base_uri": "https://localhost:8080/"
        },
        "id": "wZRilyi1xV6l",
        "outputId": "2203d513-bae5-47d1-f74b-9fe469c5c51d"
      },
      "execution_count": 1,
      "outputs": [
        {
          "output_type": "stream",
          "name": "stdout",
          "text": [
            "Enter number12\n",
            "3\n"
          ]
        }
      ]
    },
    {
      "cell_type": "markdown",
      "source": [
        "### 6. Use nested while loop to print 3 different pattern. \n",
        "#### 1. Rectangle pattern"
      ],
      "metadata": {
        "id": "A4p8W4Twys-X"
      }
    },
    {
      "cell_type": "code",
      "source": [
        "n = int(input(\"Enter Length of rectangle\"))\n",
        "m = int(input(\"Enter breadth of rectangle\"))\n",
        "for i in range(0,n):\n",
        "    for j in range(0,m):\n",
        "        print(\"*\",end=\" \")\n",
        "    print()"
      ],
      "metadata": {
        "colab": {
          "base_uri": "https://localhost:8080/"
        },
        "id": "55TegUTxxd90",
        "outputId": "ce76e865-21e2-489c-eaa3-5eaff729cc58"
      },
      "execution_count": 2,
      "outputs": [
        {
          "output_type": "stream",
          "name": "stdout",
          "text": [
            "Enter Length of rectangle3\n",
            "Enter breadth of rectangle2\n",
            "* * \n",
            "* * \n",
            "* * \n"
          ]
        }
      ]
    },
    {
      "cell_type": "markdown",
      "source": [
        "#### 2. Triangle pattern"
      ],
      "metadata": {
        "id": "3pEZra3ty687"
      }
    },
    {
      "cell_type": "code",
      "source": [
        "n = int(input(\"Enter size : \"))\n",
        "for i in range(1,n+1):\n",
        "    for j in range(1,i+1):\n",
        "        print(\"*\",end=\" \")\n",
        "    print()"
      ],
      "metadata": {
        "colab": {
          "base_uri": "https://localhost:8080/"
        },
        "id": "_5f7zSXNx-YU",
        "outputId": "4ec4af94-d874-4c05-8b45-69e368f8204d"
      },
      "execution_count": 3,
      "outputs": [
        {
          "output_type": "stream",
          "name": "stdout",
          "text": [
            "Enter size : 4\n",
            "* \n",
            "* * \n",
            "* * * \n",
            "* * * * \n"
          ]
        }
      ]
    },
    {
      "cell_type": "markdown",
      "source": [
        "#### 3. Diamond pattern"
      ],
      "metadata": {
        "id": "uk-PBtady_Vb"
      }
    },
    {
      "cell_type": "code",
      "source": [
        "n = int(input(\"Enter Size : \"))\n",
        "i = 1\n",
        "while i <= n:\n",
        "    j = 1\n",
        "    while j <= n - i:\n",
        "        print(\" \", end=\"\")\n",
        "        j += 1\n",
        "    k = 1\n",
        "    while k <= 2 * i - 1:\n",
        "        print(\"*\", end=\"\")\n",
        "        k += 1\n",
        "    print(\"\")\n",
        "    i += 1\n",
        "\n",
        "i = 4\n",
        "while i >= 1:\n",
        "    j = 1\n",
        "    while j <= n - i:\n",
        "        print(\" \", end=\"\")\n",
        "        j += 1\n",
        "    k = 1\n",
        "    while k <= 2 * i - 1:\n",
        "        print(\"*\", end=\"\")\n",
        "        k += 1\n",
        "    print(\"\")\n",
        "    i -= 1"
      ],
      "metadata": {
        "colab": {
          "base_uri": "https://localhost:8080/"
        },
        "id": "QxjfyCXKyKKd",
        "outputId": "ec4fe8d5-cbee-47b6-f148-e8c844d3790a"
      },
      "execution_count": 4,
      "outputs": [
        {
          "output_type": "stream",
          "name": "stdout",
          "text": [
            "Enter Size : 4\n",
            "   *\n",
            "  ***\n",
            " *****\n",
            "*******\n",
            "*******\n",
            " *****\n",
            "  ***\n",
            "   *\n"
          ]
        }
      ]
    },
    {
      "cell_type": "markdown",
      "source": [
        "#### 7.  Reverse a while loop to display numbers from 10 to 1. \n"
      ],
      "metadata": {
        "id": "nztLo4vCzD1U"
      }
    },
    {
      "cell_type": "code",
      "source": [
        "n = 10\n",
        "while n >= 1:\n",
        "    print(n)\n",
        "    n-=1"
      ],
      "metadata": {
        "colab": {
          "base_uri": "https://localhost:8080/"
        },
        "id": "nlFoBOc0yTkc",
        "outputId": "854cc4cc-d855-47b4-e592-39595475f454"
      },
      "execution_count": 5,
      "outputs": [
        {
          "output_type": "stream",
          "name": "stdout",
          "text": [
            "10\n",
            "9\n",
            "8\n",
            "7\n",
            "6\n",
            "5\n",
            "4\n",
            "3\n",
            "2\n",
            "1\n"
          ]
        }
      ]
    },
    {
      "cell_type": "markdown",
      "source": [
        "#### 8.  Reverse a while loop to display numbers from 10 to 1. \n"
      ],
      "metadata": {
        "id": "xMX6o8HizJDe"
      }
    },
    {
      "cell_type": "code",
      "source": [
        "n = 10\n",
        "while n >= 1:\n",
        "    print(n)\n",
        "    n-=1"
      ],
      "metadata": {
        "colab": {
          "base_uri": "https://localhost:8080/"
        },
        "id": "4ov13jmnyYh8",
        "outputId": "32fcb5b6-250d-453a-e643-539d5ce9cb76"
      },
      "execution_count": 6,
      "outputs": [
        {
          "output_type": "stream",
          "name": "stdout",
          "text": [
            "10\n",
            "9\n",
            "8\n",
            "7\n",
            "6\n",
            "5\n",
            "4\n",
            "3\n",
            "2\n",
            "1\n"
          ]
        }
      ]
    },
    {
      "cell_type": "code",
      "source": [],
      "metadata": {
        "id": "iz15Uz5syd6s"
      },
      "execution_count": null,
      "outputs": []
    }
  ]
}