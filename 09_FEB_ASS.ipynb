{
  "nbformat": 4,
  "nbformat_minor": 0,
  "metadata": {
    "colab": {
      "provenance": [],
      "authorship_tag": "ABX9TyN/geULvZhGnKcz5W+l4iQI",
      "include_colab_link": true
    },
    "kernelspec": {
      "name": "python3",
      "display_name": "Python 3"
    },
    "language_info": {
      "name": "python"
    }
  },
  "cells": [
    {
      "cell_type": "markdown",
      "metadata": {
        "id": "view-in-github",
        "colab_type": "text"
      },
      "source": [
        "<a href=\"https://colab.research.google.com/github/tanishqacodes/DATA-SCIENCE-MASTERS/blob/main/09_FEB_ASS.ipynb\" target=\"_parent\"><img src=\"https://colab.research.google.com/assets/colab-badge.svg\" alt=\"Open In Colab\"/></a>"
      ]
    },
    {
      "cell_type": "markdown",
      "source": [
        "### Q1, Create a vehicle class with an init method having instance variables as name_of_vehicle, max_speed and average_of_vehicle."
      ],
      "metadata": {
        "id": "Ar07e3FZH4LS"
      }
    },
    {
      "cell_type": "code",
      "source": [
        "class Vehicle:\n",
        "  def __init__(self,name_of_vehicle,max_speed,average_of_vehicle):\n",
        "    self.name_of_vehicle = name_of_vehicle\n",
        "    self.max_speed = max_speed\n",
        "    self.average_of_vehicle = average_of_vehicle\n",
        "  \n"
      ],
      "metadata": {
        "id": "-Q_eymPkH8my"
      },
      "execution_count": 1,
      "outputs": []
    },
    {
      "cell_type": "code",
      "source": [
        "obj = Vehicle('car',1200,350)"
      ],
      "metadata": {
        "id": "0KZGe7dQIk6S"
      },
      "execution_count": 2,
      "outputs": []
    },
    {
      "cell_type": "markdown",
      "source": [
        "### Q2. Create a child class car from the vehicle class created in Que 1, which will inherit the vehicle class. Create a method named seating_capacity which takes capacity as an argument and returns the name of the vehicle and its seating capacity."
      ],
      "metadata": {
        "id": "161tWh-AIo4l"
      }
    },
    {
      "cell_type": "code",
      "source": [
        "class Car(Vehicle):\n",
        "  def seating_capacity(self,capacity):\n",
        "    self.capacity = capacity\n",
        "  def detail(self):\n",
        "    print(\"Name : \",self.name_of_vehicle)\n",
        "    print(\"Seating capacity: \",self.capacity)"
      ],
      "metadata": {
        "id": "d3eSAcAXJXcI"
      },
      "execution_count": 12,
      "outputs": []
    },
    {
      "cell_type": "code",
      "source": [
        "obj_car = Car('Innova',2000,250)"
      ],
      "metadata": {
        "id": "BwAlLIVeIuZp"
      },
      "execution_count": 13,
      "outputs": []
    },
    {
      "cell_type": "code",
      "source": [
        "obj_car.seating_capacity(5)"
      ],
      "metadata": {
        "id": "1khQtVRFKqL6"
      },
      "execution_count": 14,
      "outputs": []
    },
    {
      "cell_type": "code",
      "source": [
        "obj_car.detail()"
      ],
      "metadata": {
        "colab": {
          "base_uri": "https://localhost:8080/"
        },
        "id": "qgsUbkfAK3KK",
        "outputId": "2bd5ccc0-8e0a-4a1a-f181-d4453197420e"
      },
      "execution_count": 15,
      "outputs": [
        {
          "output_type": "stream",
          "name": "stdout",
          "text": [
            "Name :  Innova\n",
            "Seating capacity:  5\n"
          ]
        }
      ]
    },
    {
      "cell_type": "markdown",
      "source": [
        "### Q3. What is multiple inheritance? Write a python code to demonstrate multiple inheritance.\n",
        " \n",
        "* When a class is derived from more than one base class it is called multiple Inheritance. The derived class inherits all the features of the base case.\n",
        "* EXAMPLE:-"
      ],
      "metadata": {
        "id": "uFIc5GGTLPnZ"
      }
    },
    {
      "cell_type": "code",
      "source": [
        "class ParentA:\n",
        "  def test1(self):\n",
        "    print(\"Parent Class A:\")\n",
        "\n",
        "class ParentB:\n",
        "  def test2(self):\n",
        "    print(\"Parent Class B:\")\n",
        "\n",
        "class Child(ParentA,ParentB):\n",
        "  def test3(self):\n",
        "    print(\"Child Class:\")"
      ],
      "metadata": {
        "id": "AvE1tGdJK630"
      },
      "execution_count": 17,
      "outputs": []
    },
    {
      "cell_type": "code",
      "source": [
        "obj_child = Child()"
      ],
      "metadata": {
        "id": "_6JE8SJdMPam"
      },
      "execution_count": 18,
      "outputs": []
    },
    {
      "cell_type": "code",
      "source": [
        "obj_child.test3()"
      ],
      "metadata": {
        "colab": {
          "base_uri": "https://localhost:8080/"
        },
        "id": "ouPBdCtzM14B",
        "outputId": "b693cc06-fbe0-4165-cdb9-37fb76f3f2c5"
      },
      "execution_count": 19,
      "outputs": [
        {
          "output_type": "stream",
          "name": "stdout",
          "text": [
            "Child Class:\n"
          ]
        }
      ]
    },
    {
      "cell_type": "code",
      "source": [
        "obj_child.test2()"
      ],
      "metadata": {
        "colab": {
          "base_uri": "https://localhost:8080/"
        },
        "id": "6D4VscM1M5vD",
        "outputId": "83255cdc-031b-4d22-8a04-06fcea78ea43"
      },
      "execution_count": 20,
      "outputs": [
        {
          "output_type": "stream",
          "name": "stdout",
          "text": [
            "Parent Class B:\n"
          ]
        }
      ]
    },
    {
      "cell_type": "code",
      "source": [
        "obj_child.test1()"
      ],
      "metadata": {
        "colab": {
          "base_uri": "https://localhost:8080/"
        },
        "id": "gAb2UNz7M8cR",
        "outputId": "56b61baf-d961-4a0e-e460-0cb9edab5d0d"
      },
      "execution_count": 21,
      "outputs": [
        {
          "output_type": "stream",
          "name": "stdout",
          "text": [
            "Parent Class A:\n"
          ]
        }
      ]
    },
    {
      "cell_type": "markdown",
      "source": [
        "### Q4. What are getter and setter in python? Create a class and create a getter and a setter method in this class.\n",
        "\n",
        "**GETTER AND SETTER**\n",
        "* The main purpose of using getters and setters in object-oriented programs is to ensure data encapsulation. Private variables in python are not actually hidden fields like in other object oriented languages. Getters and Setters in python are often used when:\n",
        "\n",
        "    1. We use getters & setters to add validation logic around getting and setting a value.\n",
        "    2. To avoid direct access of a class field i.e. private variables cannot be accessed directly or modified by external user."
      ],
      "metadata": {
        "id": "j8Tu_4vuNBI9"
      }
    },
    {
      "cell_type": "code",
      "source": [
        "class Student:\n",
        "  def __init__(self,name,age=0,id=0):\n",
        "    self.id = id\n",
        "    self.__name = name\n",
        "    self.__age = age\n",
        "#setter function\n",
        "  def set_age(self,a):\n",
        "    self.__age = a\n",
        "  def set_name(self,n):\n",
        "    self.__name = n\n",
        "\n",
        "#getter function\n",
        "  def get_age(self):\n",
        "    return self.__age\n",
        "\n",
        "  def get_name(self):\n",
        "    return self.__name\n",
        "    \n"
      ],
      "metadata": {
        "id": "Ejy1524CM_S6"
      },
      "execution_count": 22,
      "outputs": []
    },
    {
      "cell_type": "code",
      "source": [
        "obj_stu = Student('Tanishqa',19,23451)"
      ],
      "metadata": {
        "id": "8sdgU7wTO9LW"
      },
      "execution_count": 23,
      "outputs": []
    },
    {
      "cell_type": "code",
      "source": [
        "obj_stu.id"
      ],
      "metadata": {
        "colab": {
          "base_uri": "https://localhost:8080/"
        },
        "id": "tkRmeBu9PDya",
        "outputId": "1231a64d-e461-4481-f5cd-26058400656d"
      },
      "execution_count": 24,
      "outputs": [
        {
          "output_type": "execute_result",
          "data": {
            "text/plain": [
              "23451"
            ]
          },
          "metadata": {},
          "execution_count": 24
        }
      ]
    },
    {
      "cell_type": "code",
      "source": [
        "obj_stu.get_age()"
      ],
      "metadata": {
        "colab": {
          "base_uri": "https://localhost:8080/"
        },
        "id": "N3i82pykPGs_",
        "outputId": "dcd134d7-00b1-460f-f3f5-eabd8ce2f0c9"
      },
      "execution_count": 25,
      "outputs": [
        {
          "output_type": "execute_result",
          "data": {
            "text/plain": [
              "19"
            ]
          },
          "metadata": {},
          "execution_count": 25
        }
      ]
    },
    {
      "cell_type": "code",
      "source": [
        "obj_stu.set_age(20)"
      ],
      "metadata": {
        "id": "fnJnVqRePNdR"
      },
      "execution_count": 26,
      "outputs": []
    },
    {
      "cell_type": "code",
      "source": [
        "obj_stu.get_age()"
      ],
      "metadata": {
        "colab": {
          "base_uri": "https://localhost:8080/"
        },
        "id": "Xh5Ti-o3PWeX",
        "outputId": "6b9b5888-4842-420c-8c42-8dfbcaaee9de"
      },
      "execution_count": 27,
      "outputs": [
        {
          "output_type": "execute_result",
          "data": {
            "text/plain": [
              "20"
            ]
          },
          "metadata": {},
          "execution_count": 27
        }
      ]
    },
    {
      "cell_type": "markdown",
      "source": [
        "### Q5.What is method overriding in python? Write a python code to demonstrate method overriding.\n",
        "* Method overriding is an ability of any object-oriented programming language that allows a subclass or child class to provide a specific implementation of a method that is already provided by one of its super-classes or parent classes. When a method in a subclass has the same name, same parameters or signature and same return type(or sub-type) as a method in its super-class, then the method in the subclass is said to override the method in the super-class."
      ],
      "metadata": {
        "id": "3gbnfTytPpBd"
      }
    },
    {
      "cell_type": "code",
      "source": [
        "class Parent:\n",
        "  def __init__(self,n):\n",
        "    self.value = n\n",
        "  \n",
        "  def cal(self):\n",
        "    return self.value + 2\n",
        "\n",
        "class Child:\n",
        "  def __init__(self,n):\n",
        "    self.value = n\n",
        "\n",
        "  def cal(self):\n",
        "    return self.value * 2\n",
        "    "
      ],
      "metadata": {
        "id": "cQ3p_yqrPZTh"
      },
      "execution_count": 32,
      "outputs": []
    },
    {
      "cell_type": "code",
      "source": [
        "obj_parent = Parent(10)"
      ],
      "metadata": {
        "id": "bU1P8D1RQP4x"
      },
      "execution_count": 33,
      "outputs": []
    },
    {
      "cell_type": "code",
      "source": [
        "obj_parent.cal()"
      ],
      "metadata": {
        "colab": {
          "base_uri": "https://localhost:8080/"
        },
        "id": "fDuhDi9gQXFa",
        "outputId": "9fa5dfd5-9a94-41a5-9c22-fc0cb1130124"
      },
      "execution_count": 34,
      "outputs": [
        {
          "output_type": "execute_result",
          "data": {
            "text/plain": [
              "12"
            ]
          },
          "metadata": {},
          "execution_count": 34
        }
      ]
    },
    {
      "cell_type": "code",
      "source": [
        "obj_child = Child(10)"
      ],
      "metadata": {
        "id": "YQTjnVSJQZvU"
      },
      "execution_count": 35,
      "outputs": []
    },
    {
      "cell_type": "code",
      "source": [
        "obj_child.cal()"
      ],
      "metadata": {
        "colab": {
          "base_uri": "https://localhost:8080/"
        },
        "id": "53__g2L3Rv4G",
        "outputId": "46768ca2-9d60-45a5-92bd-c6b4d40d4507"
      },
      "execution_count": 36,
      "outputs": [
        {
          "output_type": "execute_result",
          "data": {
            "text/plain": [
              "20"
            ]
          },
          "metadata": {},
          "execution_count": 36
        }
      ]
    },
    {
      "cell_type": "code",
      "source": [],
      "metadata": {
        "id": "Lj5Kynz4Ryfk"
      },
      "execution_count": null,
      "outputs": []
    }
  ]
}