{
  "nbformat": 4,
  "nbformat_minor": 0,
  "metadata": {
    "colab": {
      "provenance": [],
      "authorship_tag": "ABX9TyOk3EBptaWGfF6IHsnnV4hA",
      "include_colab_link": true
    },
    "kernelspec": {
      "name": "python3",
      "display_name": "Python 3"
    },
    "language_info": {
      "name": "python"
    }
  },
  "cells": [
    {
      "cell_type": "markdown",
      "metadata": {
        "id": "view-in-github",
        "colab_type": "text"
      },
      "source": [
        "<a href=\"https://colab.research.google.com/github/tanishqacodes/DATA-SCIENCE-MASTERS/blob/main/OOPS_ASSIGNMENT.ipynb\" target=\"_parent\"><img src=\"https://colab.research.google.com/assets/colab-badge.svg\" alt=\"Open In Colab\"/></a>"
      ]
    },
    {
      "cell_type": "markdown",
      "source": [
        "### Q1. Explain Class and Object with respect to Object-Oriented Programming. Give a suitable example."
      ],
      "metadata": {
        "id": "YPo0UU1pnd7L"
      }
    },
    {
      "cell_type": "markdown",
      "source": [
        "##### CLASS\n",
        "* A class is considered as a blueprint of objects.\n",
        "* We use the class keyword to create a class in Python.\n",
        "* It consist of attributes and methods.\n",
        "* The variables inside a class are called attributes."
      ],
      "metadata": {
        "id": "gM2hdCF6nvPT"
      }
    },
    {
      "cell_type": "code",
      "source": [
        "class Student:\n",
        "  name = \"\"\n",
        "  age = 18\n",
        "  course = \"\"\n",
        "  def __init__(self,name,age,course):\n",
        "    self.name = name\n",
        "    self.age = age\n",
        "    self.course = course\n",
        "  \n",
        "  #display details of students\n",
        "  def details_Student(self):\n",
        "    print(\"Name : \",self.name)\n",
        "    print(\"Age : \",self.age)\n",
        "    print(\"Course : \",self.course)"
      ],
      "metadata": {
        "id": "SkpiMqf7oaSO"
      },
      "execution_count": 8,
      "outputs": []
    },
    {
      "cell_type": "markdown",
      "source": [
        "##### OBJECT\n",
        "An object is called an instance of a class."
      ],
      "metadata": {
        "id": "FGTxpaK9pfkU"
      }
    },
    {
      "cell_type": "code",
      "source": [
        "ram = Student('ram',19,'data science masters')"
      ],
      "metadata": {
        "id": "nnb0ALegpX0B"
      },
      "execution_count": 10,
      "outputs": []
    },
    {
      "cell_type": "code",
      "source": [
        "ram.age"
      ],
      "metadata": {
        "colab": {
          "base_uri": "https://localhost:8080/"
        },
        "id": "nPX47jEBp1vn",
        "outputId": "bdf5a9f6-06c4-40fc-ba57-3e453891c955"
      },
      "execution_count": 4,
      "outputs": [
        {
          "output_type": "execute_result",
          "data": {
            "text/plain": [
              "19"
            ]
          },
          "metadata": {},
          "execution_count": 4
        }
      ]
    },
    {
      "cell_type": "code",
      "source": [
        "ram.course"
      ],
      "metadata": {
        "colab": {
          "base_uri": "https://localhost:8080/",
          "height": 35
        },
        "id": "0kBpPtzgp34W",
        "outputId": "737c4f5b-6981-48cb-c823-ed814cdf84db"
      },
      "execution_count": 5,
      "outputs": [
        {
          "output_type": "execute_result",
          "data": {
            "text/plain": [
              "'data science masters'"
            ],
            "application/vnd.google.colaboratory.intrinsic+json": {
              "type": "string"
            }
          },
          "metadata": {},
          "execution_count": 5
        }
      ]
    },
    {
      "cell_type": "code",
      "source": [
        "ram.name"
      ],
      "metadata": {
        "colab": {
          "base_uri": "https://localhost:8080/",
          "height": 35
        },
        "id": "scuY2QCAp5wm",
        "outputId": "5aed38e9-5545-4244-a402-550ee59a28df"
      },
      "execution_count": 6,
      "outputs": [
        {
          "output_type": "execute_result",
          "data": {
            "text/plain": [
              "'ram'"
            ],
            "application/vnd.google.colaboratory.intrinsic+json": {
              "type": "string"
            }
          },
          "metadata": {},
          "execution_count": 6
        }
      ]
    },
    {
      "cell_type": "code",
      "source": [
        "ram.details_Student()"
      ],
      "metadata": {
        "colab": {
          "base_uri": "https://localhost:8080/"
        },
        "id": "iCz3AsIPp8C2",
        "outputId": "3e8ce2ac-260d-4bfc-db6b-5bd34528d0e3"
      },
      "execution_count": 11,
      "outputs": [
        {
          "output_type": "stream",
          "name": "stdout",
          "text": [
            "Name :  ram\n",
            "Age :  19\n",
            "Course :  data science masters\n"
          ]
        }
      ]
    },
    {
      "cell_type": "markdown",
      "source": [
        "### Q2. Name the four pillars of OOPs.\n",
        "Everything in Python is an object. Like other Object-Oriented languages, when creating objects using classes, there are four(4) basic principles for writing clean and concise code. These principles are called the four pillars of object-oriented programming (OOP). \n",
        "* Inheritance\n",
        "* Polymorphism\n",
        "* Abstraction\n",
        "* Encapsulation"
      ],
      "metadata": {
        "id": "2jRpd7juqI_4"
      }
    },
    {
      "cell_type": "markdown",
      "source": [
        "### Q3. Explain why the __init__() function is used. Give a suitable example.\n",
        "The Default __init__ Constructor.\n",
        "* Constructors are used to initializing the object’s state. \n",
        "* The task of constructors is to initialize(assign values) to the data members of the class when an object of the class is created. \n",
        "* Like methods, a constructor also contains a collection of statements(i.e. instructions) that are executed at the time of Object creation. \n",
        "* It is run as soon as an object of a class is instantiated. The method is useful to do any initialization you want to do with your object."
      ],
      "metadata": {
        "id": "-uI4qO28q2Pu"
      }
    },
    {
      "cell_type": "code",
      "source": [
        "class Person:\n",
        " \n",
        "    # init method or constructor\n",
        "    def __init__(self, name):\n",
        "        self.name = name\n",
        " \n",
        "    # Sample Method\n",
        "    def say_hi(self):\n",
        "        print('Hello, my name is', self.name)\n",
        " \n",
        " \n",
        "p = Person('Tanishqa')\n",
        "p.say_hi()"
      ],
      "metadata": {
        "colab": {
          "base_uri": "https://localhost:8080/"
        },
        "id": "Jg1aQCNmp92G",
        "outputId": "edfe4433-e1a0-4441-eb95-e2f7db3d287c"
      },
      "execution_count": 12,
      "outputs": [
        {
          "output_type": "stream",
          "name": "stdout",
          "text": [
            "Hello, my name is Tanishqa\n"
          ]
        }
      ]
    },
    {
      "cell_type": "markdown",
      "source": [
        "### Q4. Why self is used in OOPs?\n",
        "If you have been programming in Python (object-oriented programming) for some time, then you have definitely come across methods that have self as their **first parameter**.\n",
        "* The **self** keyword is used to represent an instance (object) of the given class. "
      ],
      "metadata": {
        "id": "mwn2gqCUrb_g"
      }
    },
    {
      "cell_type": "markdown",
      "source": [
        "### Q5. What is inheritance? Give an example for each type of inheritance.\n",
        "Inheritance is defined as the mechanism of inheriting the properties of the base class to the child class.\n",
        "* It represents real-world relationships well.\n",
        "* It provides the reusability of a code. We don’t have to write the same code again and again. Also, it allows us to add more features to a class without modifying it.\n",
        "* It is transitive in nature, which means that if class B inherits from another class A, then all the subclasses of B would automatically inherit from class A.\n",
        "* Inheritance offers a simple, understandable model structure. \n",
        "* Less development and maintenance expenses result from an inheritance.\n",
        "##### Types of Inheritance\n",
        " * Single \n",
        " * Multiple\n",
        " * Multilevel\n",
        " * Hierarchial\n",
        " * Hybrid"
      ],
      "metadata": {
        "id": "Y0jgP1bQr9o5"
      }
    },
    {
      "cell_type": "code",
      "source": [
        "# Single Inheritance\n",
        "class Parent:\n",
        "    def func1(self):\n",
        "        print(\"This function is in parent class.\")\n",
        " \n",
        "class Child(Parent):\n",
        "    def func2(self):\n",
        "        print(\"This function is in child class.\")\n",
        "      \n",
        "obj = Child()\n",
        "obj.func1()\n",
        "obj.func2()"
      ],
      "metadata": {
        "colab": {
          "base_uri": "https://localhost:8080/"
        },
        "id": "tuDSA3tyr5VW",
        "outputId": "e3d80911-2f0f-4090-97bd-9d3163626512"
      },
      "execution_count": 13,
      "outputs": [
        {
          "output_type": "stream",
          "name": "stdout",
          "text": [
            "This function is in parent class.\n",
            "This function is in child class.\n"
          ]
        }
      ]
    },
    {
      "cell_type": "code",
      "source": [
        "# Multiple inheritance\n",
        "class Mother:\n",
        "    mothername = \"\"\n",
        "    def mother(self):\n",
        "        print(self.mothername)\n",
        "\n",
        "class Father:\n",
        "    fathername = \"\"\n",
        "    def father(self):\n",
        "        print(self.fathername)\n",
        "\n",
        "class Daughter(Mother, Father):\n",
        "    def parents(self):\n",
        "        print(\"Father :\", self.fathername)\n",
        "        print(\"Mother :\", self.mothername)\n",
        " \n",
        "s1 = Daughter()\n",
        "s1.fathername = \"Pawan\"\n",
        "s1.mothername = \"Alka\"\n",
        "s1.parents()"
      ],
      "metadata": {
        "colab": {
          "base_uri": "https://localhost:8080/"
        },
        "id": "l3RoLMe2tfNW",
        "outputId": "74d177a8-54c1-4201-db09-a1c83087d196"
      },
      "execution_count": 14,
      "outputs": [
        {
          "output_type": "stream",
          "name": "stdout",
          "text": [
            "Father : Pawan\n",
            "Mother : Alka\n"
          ]
        }
      ]
    },
    {
      "cell_type": "code",
      "source": [
        "#Multilevel\n",
        "class Grandparent:\n",
        "    def func1(self):\n",
        "        print(\"This funtion is in grandparent class.\")\n",
        "  \n",
        "class Parent(Grandparent):\n",
        "    def func2(self):\n",
        "        print(\"This function is in parent class.\")\n",
        " \n",
        "class Child(Parent):\n",
        "    def func3(self):\n",
        "        print(\"This function is in child class.\")\n",
        "      \n",
        "obj = Child()\n",
        "obj.func1()\n",
        "obj.func2()\n",
        "obj.func3()"
      ],
      "metadata": {
        "colab": {
          "base_uri": "https://localhost:8080/"
        },
        "id": "ArJniO4kt6tu",
        "outputId": "1a9034ed-ad22-4a3d-8382-1871ee91adce"
      },
      "execution_count": 16,
      "outputs": [
        {
          "output_type": "stream",
          "name": "stdout",
          "text": [
            "This funtion is in grandparent class.\n",
            "This function is in parent class.\n",
            "This function is in child class.\n"
          ]
        }
      ]
    },
    {
      "cell_type": "code",
      "source": [
        "# Hierarchical inheritance\n",
        "\n",
        "class Parent:\n",
        "    def func1(self):\n",
        "        print(\"This function is in parent class.\")\n",
        "\n",
        "class Child1(Parent):\n",
        "    def func2(self):\n",
        "        print(\"This function is in child 1.\")\n",
        "\n",
        "class Child2(Parent):\n",
        "    def func3(self):\n",
        "        print(\"This function is in child 2.\")\n",
        "\n",
        "obj1 = Child1()\n",
        "obj2 = Child2()\n",
        "obj1.func1()\n",
        "obj1.func2()\n",
        "obj2.func1()\n",
        "obj2.func3()"
      ],
      "metadata": {
        "colab": {
          "base_uri": "https://localhost:8080/"
        },
        "id": "b4xeUWxFuj4X",
        "outputId": "d0f12061-7a97-43bc-ade8-516cb8055bd3"
      },
      "execution_count": 17,
      "outputs": [
        {
          "output_type": "stream",
          "name": "stdout",
          "text": [
            "This function is in parent class.\n",
            "This function is in child 1.\n",
            "This function is in parent class.\n",
            "This function is in child 2.\n"
          ]
        }
      ]
    },
    {
      "cell_type": "code",
      "source": [
        "# Hybrid inheritance\n",
        "class School:\n",
        "    def func1(self):\n",
        "        print(\"This function is in school.\")\n",
        "\n",
        "class Student1(School):\n",
        "    def func2(self):\n",
        "        print(\"This function is in student 1. \")\n",
        " \n",
        "class Student2(School):\n",
        "    def func3(self):\n",
        "        print(\"This function is in student 2.\")\n",
        " \n",
        "class Student3(Student1, School):\n",
        "    def func4(self):\n",
        "        print(\"This function is in student 3.\")\n",
        "\n",
        "obj = Student3()\n",
        "obj.func1()\n",
        "obj.func2()"
      ],
      "metadata": {
        "colab": {
          "base_uri": "https://localhost:8080/"
        },
        "id": "pzPX7Ez5u1fN",
        "outputId": "c16adb22-94a9-4203-9305-504c6f5aa918"
      },
      "execution_count": 18,
      "outputs": [
        {
          "output_type": "stream",
          "name": "stdout",
          "text": [
            "This function is in school.\n",
            "This function is in student 1. \n"
          ]
        }
      ]
    },
    {
      "cell_type": "code",
      "source": [],
      "metadata": {
        "id": "R1WvIJuYvFnl"
      },
      "execution_count": null,
      "outputs": []
    }
  ]
}