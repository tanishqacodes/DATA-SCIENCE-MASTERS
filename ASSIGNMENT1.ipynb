{
 "cells": [
  {
   "cell_type": "code",
   "execution_count": 2,
   "id": "e8660c4d-7a8c-4267-b47d-8bedc2f7f5c2",
   "metadata": {},
   "outputs": [
    {
     "name": "stdout",
     "output_type": "stream",
     "text": [
      "Guido van Rossum is the creator of the Python programming language.\n"
     ]
    }
   ],
   "source": [
    "#1. Who developed Python Programming Language? \n",
    "print(\"Guido van Rossum is the creator of the Python programming language.\")"
   ]
  },
  {
   "cell_type": "code",
   "execution_count": 3,
   "id": "cb2839dd-3600-4ab2-b1a9-188c6efe25d7",
   "metadata": {},
   "outputs": [
    {
     "name": "stdout",
     "output_type": "stream",
     "text": [
      "Python supports multiple programming paradigms including object-oriented programming, functional programming, procedural programming, and aspect-orient\n"
     ]
    }
   ],
   "source": [
    "#2. Which type of Programming does Python support? \n",
    "print(\"Python supports multiple programming paradigms including object-oriented programming, functional programming, procedural programming, and aspect-orient\")"
   ]
  },
  {
   "cell_type": "code",
   "execution_count": 4,
   "id": "dac37715-d29c-4477-891b-5552f3012cfb",
   "metadata": {},
   "outputs": [
    {
     "name": "stdout",
     "output_type": "stream",
     "text": [
      "Yes, Python is case sensitive when dealing with identifiers (variable names, function names, etc.). For example, \"`myVar`\" and \"`myvar`\" would be co\n"
     ]
    }
   ],
   "source": [
    "#3. Is Python case sensitive when dealing with identifiers? \n",
    "print('Yes, Python is case sensitive when dealing with identifiers (variable names, function names, etc.). For example, \"`myVar`\" and \"`myvar`\" would be co')"
   ]
  },
  {
   "cell_type": "code",
   "execution_count": 5,
   "id": "ec3010ce-b1f0-411f-b0b7-aafd6405092a",
   "metadata": {},
   "outputs": [
    {
     "name": "stdout",
     "output_type": "stream",
     "text": [
      "The correct extension for a Python file is \".py\".\n"
     ]
    }
   ],
   "source": [
    "#4. What is the correct extension of the Python file? \n",
    "print('The correct extension for a Python file is \".py\".')"
   ]
  },
  {
   "cell_type": "code",
   "execution_count": 6,
   "id": "858986da-3d68-4528-8d55-f7617aa464d2",
   "metadata": {},
   "outputs": [
    {
     "name": "stdout",
     "output_type": "stream",
     "text": [
      "Python code is interpreted, not compiled.\n"
     ]
    }
   ],
   "source": [
    "#5. Is Python code compiled or interpreted? \n",
    "print('Python code is interpreted, not compiled.')"
   ]
  },
  {
   "cell_type": "code",
   "execution_count": 7,
   "id": "6b348e65-207e-44dd-a7aa-011a5d033b9f",
   "metadata": {},
   "outputs": [
    {
     "name": "stdout",
     "output_type": "stream",
     "text": [
      "In Python, some common blocks of code used to define are:\n",
      "\n",
      "  *\tFunctions: Reusable blocks of code that perform a specific task and can accept arguments.\n",
      "\n",
      "  *\tClasses: Used to create objects and define the properties and methods that an object of that class will have.\n",
      "\n",
      "  *\tConditional statements: Used to test a condition and execute a specific block of code based on the result of the test. (if-elif-else)\n",
      "\n",
      "  *\tLoops: Used to repeat a block of code multiple times. (for, while)\n",
      "\n",
      "  *\tTry-except: Used to handle exceptions and errors that might occur during the execution of the code.\n",
      "\n",
      "  *\tWith statement: Used to simplify exception handling by automatically closing the file or resource after the block of code is executed.\n",
      "\n",
      "\n"
     ]
    }
   ],
   "source": [
    "#6. Name a few blocks of code used to define in Python language? \n",
    "print('''In Python, some common blocks of code used to define are:\\n\n",
    "  *\tFunctions: Reusable blocks of code that perform a specific task and can accept arguments.\\n\n",
    "  *\tClasses: Used to create objects and define the properties and methods that an object of that class will have.\\n\n",
    "  *\tConditional statements: Used to test a condition and execute a specific block of code based on the result of the test. (if-elif-else)\\n\n",
    "  *\tLoops: Used to repeat a block of code multiple times. (for, while)\\n\n",
    "  *\tTry-except: Used to handle exceptions and errors that might occur during the execution of the code.\\n\n",
    "  *\tWith statement: Used to simplify exception handling by automatically closing the file or resource after the block of code is executed.\\n\n",
    "''')"
   ]
  },
  {
   "cell_type": "code",
   "execution_count": 8,
   "id": "89497768-c3a5-4101-8ad9-db6294679d36",
   "metadata": {},
   "outputs": [
    {
     "name": "stdout",
     "output_type": "stream",
     "text": [
      "In Python, the `#` symbol is used to give single-line comments. Everything following the `#` on a line is ignored by the interpreter, and is used to provide annotations, explanations, or notes for the reader of the code.\n",
      "\n"
     ]
    }
   ],
   "source": [
    "#7. State a character used to give single-line comments in Python? \n",
    "print('''In Python, the `#` symbol is used to give single-line comments. Everything following the `#` on a line is ignored by the interpreter, and is used to provide annotations, explanations, or notes for the reader of the code.\n",
    "''')"
   ]
  },
  {
   "cell_type": "code",
   "execution_count": 10,
   "id": "547de282-5df8-4aa5-a493-96695485ce55",
   "metadata": {},
   "outputs": [
    {
     "name": "stdout",
     "output_type": "stream",
     "text": [
      "You can use the sys.version or sys.version_info function to find the version of Python you are currently working with.\n",
      "\n",
      "Python version\n",
      "\n",
      "3.10.8 | packaged by conda-forge | (main, Nov 22 2022, 08:26:04) [GCC 10.4.0]\n",
      "Version info.\n",
      "\n",
      "sys.version_info(major=3, minor=10, micro=8, releaselevel='final', serial=0)\n"
     ]
    }
   ],
   "source": [
    "#8. Mention functions which can help us to find the version of python that we are currently working on? \n",
    "print(\"You can use the sys.version or sys.version_info function to find the version of Python you are currently working with.\\n\")\n",
    "import sys\n",
    "\n",
    "print(\"Python version\\n\")\n",
    "print(sys.version)\n",
    "print(\"Version info.\\n\")\n",
    "print(sys.version_info)"
   ]
  },
  {
   "cell_type": "code",
   "execution_count": 12,
   "id": "d3035cff-a289-476b-8cd0-2751783730dc",
   "metadata": {},
   "outputs": [
    {
     "name": "stdout",
     "output_type": "stream",
     "text": [
      "In Python, anonymous functions at runtime can be created using the `lambda` construct.\n",
      "\n",
      "\n",
      "  A `lambda` function is a small anonymous function that can take any number of arguments, but can only have one expression.\n",
      "\n",
      "\n",
      "  The general syntax is: `lambda arguments: expression` \n",
      "\n"
     ]
    }
   ],
   "source": [
    "#9. Python supports the creation of anonymous functions at runtime, using a construct called _____________\n",
    "print('''In Python, anonymous functions at runtime can be created using the `lambda` construct.\\n\n",
    "\n",
    "  A `lambda` function is a small anonymous function that can take any number of arguments, but can only have one expression.\\n\n",
    "\n",
    "  The general syntax is: `lambda arguments: expression` \\n''')"
   ]
  },
  {
   "cell_type": "code",
   "execution_count": 13,
   "id": "b0192230-be58-4752-87fd-d9072bd30c35",
   "metadata": {},
   "outputs": [
    {
     "name": "stdout",
     "output_type": "stream",
     "text": [
      "`pip` stands for \"Pip Installs Packages\". It is a package management system for Python, used to install and manage software packages written in Python. pip makes it easy to install, upgrade, and remove packages,\n",
      "   and it integrates well with the Python ecosystem. \n",
      "\n",
      "\n",
      "  `pip` is included with most Python installations, and it can be used from the command line to download and install packages from the Python Package Index (PyPI), a large repository of open-source Python packages.\n",
      "\n",
      "\n",
      "  With `pip`, you can install packages for your own use, or for a specific project, without affecting the system-wide installation of Python. This makes it easy to manage the dependencies of your projects, \n",
      "  and ensures that you have the correct versions of the packages you need, even if they are different from the system-wide version.\n",
      "\n"
     ]
    }
   ],
   "source": [
    "#10. What does pip stand for python? \n",
    "print('''`pip` stands for \"Pip Installs Packages\". It is a package management system for Python, used to install and manage software packages written in Python. pip makes it easy to install, upgrade, and remove packages,\n",
    "   and it integrates well with the Python ecosystem. \\n\n",
    "\n",
    "  `pip` is included with most Python installations, and it can be used from the command line to download and install packages from the Python Package Index (PyPI), a large repository of open-source Python packages.\\n\n",
    "\n",
    "  With `pip`, you can install packages for your own use, or for a specific project, without affecting the system-wide installation of Python. This makes it easy to manage the dependencies of your projects, \n",
    "  and ensures that you have the correct versions of the packages you need, even if they are different from the system-wide version.\\n''')"
   ]
  },
  {
   "cell_type": "code",
   "execution_count": 14,
   "id": "43ae5616-4a90-4904-9b33-9542aaa69b13",
   "metadata": {},
   "outputs": [
    {
     "name": "stdout",
     "output_type": "stream",
     "text": [
      "Python has many built-in functions, here are a few commonly used ones:\n",
      "\n",
      "\n",
      "  `print()`: used to display text on the screen.\n",
      "\n",
      "\n",
      "  `len()`: returns the length of a sequence (such as a string, list, or tuple).\n",
      "\n",
      "\n",
      "  `range()`: generates a sequence of numbers, useful for looping.\n",
      "\n",
      "\n",
      "  `str()`: converts an object to a string representation.\n",
      "\n",
      "\n",
      "  `int()`: converts an object to an integer representation.\n",
      "\n",
      "\n",
      "  `float()`: converts an object to a floating-point representation.\n",
      "\n",
      "\n",
      "  `sum()`: adds elements of a sequence and returns the sum.\n",
      "\n",
      "\n",
      "  `min()`: returns the minimum value in a sequence.\n",
      "\n",
      "\n",
      "  `max()`: returns the maximum value in a sequence.\n",
      "\n",
      "\n",
      "  `sorted()`: returns a sorted list from a sequence.\n",
      "\n",
      "\n",
      "  `abs()`: returns the absolute value of a number.\n",
      "\n",
      "\n",
      "  `round()`: rounds a floating-point number to the specified number of decimal places.\n",
      "\n"
     ]
    }
   ],
   "source": [
    "#11. Mention a few built-in functions in python? \n",
    "print(\"\"\"Python has many built-in functions, here are a few commonly used ones:\\n\n",
    "\n",
    "  `print()`: used to display text on the screen.\\n\n",
    "\n",
    "  `len()`: returns the length of a sequence (such as a string, list, or tuple).\\n\n",
    "\n",
    "  `range()`: generates a sequence of numbers, useful for looping.\\n\n",
    "\n",
    "  `str()`: converts an object to a string representation.\\n\n",
    "\n",
    "  `int()`: converts an object to an integer representation.\\n\n",
    "\n",
    "  `float()`: converts an object to a floating-point representation.\\n\n",
    "\n",
    "  `sum()`: adds elements of a sequence and returns the sum.\\n\n",
    "\n",
    "  `min()`: returns the minimum value in a sequence.\\n\n",
    "\n",
    "  `max()`: returns the maximum value in a sequence.\\n\n",
    "\n",
    "  `sorted()`: returns a sorted list from a sequence.\\n\n",
    "\n",
    "  `abs()`: returns the absolute value of a number.\\n\n",
    "\n",
    "  `round()`: rounds a floating-point number to the specified number of decimal places.\\n\"\"\")"
   ]
  },
  {
   "cell_type": "code",
   "execution_count": 15,
   "id": "e65b7464-2e48-4005-a607-a8389e80dae6",
   "metadata": {},
   "outputs": [
    {
     "name": "stdout",
     "output_type": "stream",
     "text": [
      "There is no specific maximum length for an identifier in Python. An identifier can be of any length, as long as it is within the limits of available memory and system resources.\n",
      "\n",
      "\n",
      "  However, it is recommended to keep identifier names short and descriptive, so that they are easy to understand and use. Python style guide (PEP 8) recommends using short all-lowercase names, with words separated by underscores, for most identifiers.\n",
      "\n",
      "\n"
     ]
    }
   ],
   "source": [
    "#12. What is the maximum possible length of an identifier in Python? \n",
    "print(\"\"\"There is no specific maximum length for an identifier in Python. An identifier can be of any length, as long as it is within the limits of available memory and system resources.\\n\n",
    "\n",
    "  However, it is recommended to keep identifier names short and descriptive, so that they are easy to understand and use. Python style guide (PEP 8) recommends using short all-lowercase names, with words separated by underscores, for most identifiers.\\n\n",
    "\"\"\")"
   ]
  },
  {
   "cell_type": "code",
   "execution_count": 16,
   "id": "774a84ca-358b-4408-ae35-d5f6af9d30ea",
   "metadata": {},
   "outputs": [
    {
     "name": "stdout",
     "output_type": "stream",
     "text": [
      "\n",
      "There are many benefits to using Python as a programming language, some of the key benefits are:\n",
      "\n",
      "\n",
      "  * Easy to learn and use: Python has a simple and straightforward syntax, which makes it easy to learn and use, even for those with no prior programming experience.\n",
      "\n",
      "\n",
      "  * Highly readable and maintainable code: Python's syntax emphasizes readability and reduces the cost of program maintenance.\n",
      "\n",
      "\n",
      "  * Large Standard Library: Python comes with a large standard library that includes modules for tasks such as connecting to web servers, reading and writing files, and working with data.\n",
      "\n",
      "\n",
      "  * Dynamic Typing: In Python, you don't need to declare the type of a variable. The type is determined automatically at runtime, which makes it easier to write and debug code.\n",
      "\n",
      "\n",
      "  * Cross-platform compatibility: Python can run on multiple operating systems, including Windows, MacOS, and Linux, making it a great choice for cross-platform development.\n",
      "\n",
      "\n",
      "  * Large community: Python has a large, active, and supportive community of users, developers, and contributors, who continuously work to improve the language and develop new libraries and tools.\n",
      "\n",
      "\n",
      "  * Wide range of applications: Python can be used for a wide range of tasks, such as web development, scientific computing, data analysis, machine learning, artificial intelligence, and more.\n",
      "\n",
      "\n",
      "\n"
     ]
    }
   ],
   "source": [
    "#13. What are the benefits of using Python? \n",
    "print(\"\"\"\n",
    "There are many benefits to using Python as a programming language, some of the key benefits are:\\n\n",
    "\n",
    "  * Easy to learn and use: Python has a simple and straightforward syntax, which makes it easy to learn and use, even for those with no prior programming experience.\\n\n",
    "\n",
    "  * Highly readable and maintainable code: Python's syntax emphasizes readability and reduces the cost of program maintenance.\\n\n",
    "\n",
    "  * Large Standard Library: Python comes with a large standard library that includes modules for tasks such as connecting to web servers, reading and writing files, and working with data.\\n\n",
    "\n",
    "  * Dynamic Typing: In Python, you don't need to declare the type of a variable. The type is determined automatically at runtime, which makes it easier to write and debug code.\\n\n",
    "\n",
    "  * Cross-platform compatibility: Python can run on multiple operating systems, including Windows, MacOS, and Linux, making it a great choice for cross-platform development.\\n\n",
    "\n",
    "  * Large community: Python has a large, active, and supportive community of users, developers, and contributors, who continuously work to improve the language and develop new libraries and tools.\\n\n",
    "\n",
    "  * Wide range of applications: Python can be used for a wide range of tasks, such as web development, scientific computing, data analysis, machine learning, artificial intelligence, and more.\\n\n",
    "\n",
    "\"\"\")"
   ]
  },
  {
   "cell_type": "code",
   "execution_count": 18,
   "id": "1e152ff6-7437-488e-9005-a3587881f6e0",
   "metadata": {},
   "outputs": [
    {
     "name": "stdout",
     "output_type": "stream",
     "text": [
      "In Python, memory management is handled automatically by the Python memory manager, which is a component of the Python interpreter. The memory manager is responsible for allocating memory for objects, freeing memory that is no longer used, and reusing memory that has been freed when new objects are created. The memory manager uses a combination of reference counting and garbage collection to manage memory efficiently.\n",
      "\n",
      "Reference counting keeps track of the number of references to an object, and when the reference count drops to zero, the memory occupied by the object is freed. Garbage collection is used to find objects that are no longer accessible from the program and reclaim the memory occupied by those objects. The Python memory manager provides these services transparently to the programmer, so they do not need to worry about freeing memory or reclaiming memory that is no longer needed.\n",
      "\n"
     ]
    }
   ],
   "source": [
    "#14. How is memory managed in Python? \n",
    "print(\"\"\"In Python, memory management is handled automatically by the Python memory manager, which is a component of the Python interpreter. The memory manager is responsible for allocating memory for objects, freeing memory that is no longer used, and reusing memory that has been freed when new objects are created. The memory manager uses a combination of reference counting and garbage collection to manage memory efficiently.\\n\n",
    "Reference counting keeps track of the number of references to an object, and when the reference count drops to zero, the memory occupied by the object is freed. Garbage collection is used to find objects that are no longer accessible from the program and reclaim the memory occupied by those objects. The Python memory manager provides these services transparently to the programmer, so they do not need to worry about freeing memory or reclaiming memory that is no longer needed.\n",
    "\"\"\")"
   ]
  },
  {
   "cell_type": "code",
   "execution_count": 20,
   "id": "24b9c1a0-e700-495e-9937-42a09bec22f5",
   "metadata": {},
   "outputs": [
    {
     "name": "stdout",
     "output_type": "stream",
     "text": [
      "\n",
      "To install Python in Windows, follow these steps:\n",
      "\n",
      "  * Download the latest version of Python from the official website: https://www.python.org/downloads/\n",
      "  * Run the downloaded .exe file and follow the steps in the installation wizard.\n",
      "  * Make sure to check the option to add Python to your PATH environment variable during the installation process.\n",
      "  \n",
      "To set the PATH environment variable, follow these steps:\n",
      "\n",
      "  * Press Windows key + X and select System.\n",
      "  * Click on \"Advanced system settings\"\n",
      "  * Click on the \"Environment Variables\" button\n",
      "  * In the System Variables section, find the \"Path\" variable and click \"Edit\"\n",
      "  * Add the path to your Python installation, typically `C:\\PythonXX\\`, where XX is your version number.\n",
      "  * Click \"OK\" on all open windows to save the changes.\n",
      "\n"
     ]
    }
   ],
   "source": [
    "#15. How to install Python on Windows and set path variables? 16. Is indentation required in python? \n",
    "print(\"\"\"\n",
    "To install Python in Windows, follow these steps:\n",
    "\n",
    "  * Download the latest version of Python from the official website: https://www.python.org/downloads/\n",
    "  * Run the downloaded .exe file and follow the steps in the installation wizard.\n",
    "  * Make sure to check the option to add Python to your PATH environment variable during the installation process.\n",
    "  \n",
    "To set the PATH environment variable, follow these steps:\n",
    "\n",
    "  * Press Windows key + X and select System.\n",
    "  * Click on \"Advanced system settings\"\n",
    "  * Click on the \"Environment Variables\" button\n",
    "  * In the System Variables section, find the \"Path\" variable and click \"Edit\"\n",
    "  * Add the path to your Python installation, typically `C:\\PythonXX\\`, where XX is your version number.\n",
    "  * Click \"OK\" on all open windows to save the changes.\n",
    "\"\"\")"
   ]
  },
  {
   "cell_type": "code",
   "execution_count": null,
   "id": "4ffb7a35-e9f4-40c9-929b-ac6d5bb1e08c",
   "metadata": {},
   "outputs": [],
   "source": [
    "##16. Is Indendation is Required in python?"
   ]
  }
 ],
 "metadata": {
  "kernelspec": {
   "display_name": "Python 3 (ipykernel)",
   "language": "python",
   "name": "python3"
  },
  "language_info": {
   "codemirror_mode": {
    "name": "ipython",
    "version": 3
   },
   "file_extension": ".py",
   "mimetype": "text/x-python",
   "name": "python",
   "nbconvert_exporter": "python",
   "pygments_lexer": "ipython3",
   "version": "3.10.8"
  }
 },
 "nbformat": 4,
 "nbformat_minor": 5
}
