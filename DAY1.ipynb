{
 "cells": [
  {
   "cell_type": "code",
   "execution_count": 1,
   "id": "65ddea8b-f924-4f9a-8d67-1587a49c41f9",
   "metadata": {},
   "outputs": [],
   "source": [
    "a=10"
   ]
  },
  {
   "cell_type": "code",
   "execution_count": 2,
   "id": "5a8b99ca-0a4d-4dca-a613-171d50e87854",
   "metadata": {},
   "outputs": [
    {
     "name": "stdout",
     "output_type": "stream",
     "text": [
      "10\n"
     ]
    }
   ],
   "source": [
    "print(a)"
   ]
  },
  {
   "cell_type": "code",
   "execution_count": 3,
   "id": "f3d02809-25e5-4b3d-9510-d2b80a1e4cae",
   "metadata": {},
   "outputs": [
    {
     "data": {
      "text/plain": [
       "int"
      ]
     },
     "execution_count": 3,
     "metadata": {},
     "output_type": "execute_result"
    }
   ],
   "source": [
    "type(a)"
   ]
  },
  {
   "cell_type": "code",
   "execution_count": 4,
   "id": "fdc36ee1-2fe2-46e8-a809-8129cbd03734",
   "metadata": {},
   "outputs": [
    {
     "name": "stdout",
     "output_type": "stream",
     "text": [
      "<class 'int'>\n"
     ]
    }
   ],
   "source": [
    "print(type(a))"
   ]
  },
  {
   "cell_type": "code",
   "execution_count": 5,
   "id": "a6bfdda9-8687-4e1d-a263-83cb679bbed7",
   "metadata": {},
   "outputs": [],
   "source": [
    "a = 'b'"
   ]
  },
  {
   "cell_type": "markdown",
   "id": "61c09abf-31c7-475a-856f-65427ec43f8d",
   "metadata": {},
   "source": [
    "### This is the first code\n",
    "\n",
    "Day 1 of data science batch"
   ]
  },
  {
   "cell_type": "code",
   "execution_count": 6,
   "id": "821b3fbc-33c8-4ae6-84f1-7530f7adf9f9",
   "metadata": {},
   "outputs": [
    {
     "data": {
      "text/plain": [
       "2"
      ]
     },
     "execution_count": 6,
     "metadata": {},
     "output_type": "execute_result"
    }
   ],
   "source": [
    "1+1"
   ]
  },
  {
   "cell_type": "code",
   "execution_count": 7,
   "id": "b6890fb6-2799-4c87-8cde-44d32e95e5b5",
   "metadata": {},
   "outputs": [
    {
     "data": {
      "text/plain": [
       "15"
      ]
     },
     "execution_count": 7,
     "metadata": {},
     "output_type": "execute_result"
    }
   ],
   "source": [
    "3*5"
   ]
  },
  {
   "cell_type": "markdown",
   "id": "e2ccc781-d21b-45e0-b8b0-14a418d72a63",
   "metadata": {},
   "source": [
    "### Python \n",
    "python behaves as a simple calculator\n",
    "Its is a scripting language"
   ]
  },
  {
   "cell_type": "code",
   "execution_count": 8,
   "id": "5edfd529-ad0a-4385-80a1-4b58a8921ec8",
   "metadata": {},
   "outputs": [
    {
     "name": "stdout",
     "output_type": "stream",
     "text": [
      "30\n"
     ]
    }
   ],
   "source": [
    "## Single line comment\n",
    "a=10\n",
    "b=20\n",
    "'''\n",
    "Multi line comment\n",
    "'''\n",
    "a = a + b\n",
    "print(a)"
   ]
  },
  {
   "cell_type": "raw",
   "id": "72714760-6720-435e-b05d-5c8cff5147ab",
   "metadata": {},
   "source": [
    "this is raw\n",
    "A raw cell is defined as content that should be included unmodified in nbconvert output. "
   ]
  },
  {
   "cell_type": "code",
   "execution_count": 9,
   "id": "dcff9dee-4cc4-42a3-bcee-ee56d65b3210",
   "metadata": {},
   "outputs": [
    {
     "name": "stdout",
     "output_type": "stream",
     "text": [
      "30\n"
     ]
    }
   ],
   "source": [
    "print(a)"
   ]
  },
  {
   "cell_type": "markdown",
   "id": "4af69759-b8de-46d2-94da-31311e85f510",
   "metadata": {
    "tags": []
   },
   "source": [
    "### NUMBERS"
   ]
  },
  {
   "cell_type": "code",
   "execution_count": 11,
   "id": "14e730bf-4655-4f93-8242-f2ee607ae2f6",
   "metadata": {},
   "outputs": [
    {
     "data": {
      "text/plain": [
       "4"
      ]
     },
     "execution_count": 11,
     "metadata": {},
     "output_type": "execute_result"
    }
   ],
   "source": [
    "1+3"
   ]
  },
  {
   "cell_type": "code",
   "execution_count": 10,
   "id": "7d7ccd4d-ef17-4e91-81c0-84173fd7e8de",
   "metadata": {},
   "outputs": [
    {
     "name": "stdout",
     "output_type": "stream",
     "text": [
      "4\n"
     ]
    }
   ],
   "source": [
    "print(1+3)"
   ]
  },
  {
   "cell_type": "code",
   "execution_count": 12,
   "id": "e5c97667-1a93-44fe-8a7e-be7f37713c56",
   "metadata": {},
   "outputs": [
    {
     "name": "stdout",
     "output_type": "stream",
     "text": [
      "This is print statement\n"
     ]
    }
   ],
   "source": [
    "print(\"This is print statement\")"
   ]
  },
  {
   "cell_type": "code",
   "execution_count": 13,
   "id": "277adfa1-8a00-4a5b-9cf3-2b40f8b62f65",
   "metadata": {},
   "outputs": [
    {
     "ename": "SyntaxError",
     "evalue": "unterminated string literal (detected at line 1) (378372538.py, line 1)",
     "output_type": "error",
     "traceback": [
      "\u001b[0;36m  Cell \u001b[0;32mIn[13], line 1\u001b[0;36m\u001b[0m\n\u001b[0;31m    print(\"this is new line statement\u001b[0m\n\u001b[0m          ^\u001b[0m\n\u001b[0;31mSyntaxError\u001b[0m\u001b[0;31m:\u001b[0m unterminated string literal (detected at line 1)\n"
     ]
    }
   ],
   "source": [
    "print(\"this is new line statement\n",
    "      new line)"
   ]
  },
  {
   "cell_type": "code",
   "execution_count": 15,
   "id": "d09995de-b227-481d-b998-4279a5bd1949",
   "metadata": {},
   "outputs": [
    {
     "name": "stdout",
     "output_type": "stream",
     "text": [
      "For new line use \n",
      " new line\n"
     ]
    }
   ],
   "source": [
    "print(\"For new line use \\n new line\")"
   ]
  },
  {
   "cell_type": "markdown",
   "id": "370c8a39-8ec3-4e6d-ae1a-012836e2ade4",
   "metadata": {},
   "source": [
    "##### Variable assignment"
   ]
  },
  {
   "cell_type": "code",
   "execution_count": 16,
   "id": "c071d0a6-b657-4096-aa17-afb2dbc113f8",
   "metadata": {},
   "outputs": [],
   "source": [
    "name = \"tanishqa\"\n",
    "gen = 'female'"
   ]
  },
  {
   "cell_type": "code",
   "execution_count": 17,
   "id": "7985b4f9-396b-4f44-a85c-b5a11f74a149",
   "metadata": {},
   "outputs": [
    {
     "data": {
      "text/plain": [
       "str"
      ]
     },
     "execution_count": 17,
     "metadata": {},
     "output_type": "execute_result"
    }
   ],
   "source": [
    "type(name)"
   ]
  },
  {
   "cell_type": "code",
   "execution_count": 18,
   "id": "9cde78cc-0439-4d28-93a1-dcd551e9f369",
   "metadata": {},
   "outputs": [],
   "source": [
    "number = 10"
   ]
  },
  {
   "cell_type": "code",
   "execution_count": 19,
   "id": "8cc70be1-3df6-4b5d-a6c6-16bff5a520c0",
   "metadata": {},
   "outputs": [
    {
     "data": {
      "text/plain": [
       "int"
      ]
     },
     "execution_count": 19,
     "metadata": {},
     "output_type": "execute_result"
    }
   ],
   "source": [
    "type(number)"
   ]
  },
  {
   "cell_type": "code",
   "execution_count": 20,
   "id": "ec8fc7a1-ec8f-4e13-9ac2-bb384b579279",
   "metadata": {},
   "outputs": [],
   "source": [
    "decimal = 3.14"
   ]
  },
  {
   "cell_type": "code",
   "execution_count": 21,
   "id": "49816fd5-c51f-4773-b09a-8434deb1593f",
   "metadata": {},
   "outputs": [
    {
     "data": {
      "text/plain": [
       "float"
      ]
     },
     "execution_count": 21,
     "metadata": {},
     "output_type": "execute_result"
    }
   ],
   "source": [
    "type(decimal)"
   ]
  },
  {
   "cell_type": "code",
   "execution_count": 22,
   "id": "7e4ff8ba-b2c7-45d6-a0cc-fe65f786c7ce",
   "metadata": {},
   "outputs": [
    {
     "data": {
      "text/plain": [
       "str"
      ]
     },
     "execution_count": 22,
     "metadata": {},
     "output_type": "execute_result"
    }
   ],
   "source": [
    "type('hello')"
   ]
  },
  {
   "cell_type": "code",
   "execution_count": 23,
   "id": "d45f5933-5c33-47a8-9319-fbc67f78356d",
   "metadata": {},
   "outputs": [],
   "source": [
    "# complex number a + bj\n",
    "comp = 5 + 6j"
   ]
  },
  {
   "cell_type": "code",
   "execution_count": 24,
   "id": "e8ab3b4b-7efb-4078-b2ce-7625828be76f",
   "metadata": {},
   "outputs": [
    {
     "data": {
      "text/plain": [
       "complex"
      ]
     },
     "execution_count": 24,
     "metadata": {},
     "output_type": "execute_result"
    }
   ],
   "source": [
    "type(comp)"
   ]
  },
  {
   "cell_type": "code",
   "execution_count": 26,
   "id": "87b24832-bb0d-412d-b5bc-52e153232edd",
   "metadata": {},
   "outputs": [
    {
     "ename": "SyntaxError",
     "evalue": "invalid decimal literal (1599885414.py, line 1)",
     "output_type": "error",
     "traceback": [
      "\u001b[0;36m  Cell \u001b[0;32mIn[26], line 1\u001b[0;36m\u001b[0m\n\u001b[0;31m    comp = 2+3i          #j is only allowed for img num\u001b[0m\n\u001b[0m             ^\u001b[0m\n\u001b[0;31mSyntaxError\u001b[0m\u001b[0;31m:\u001b[0m invalid decimal literal\n"
     ]
    }
   ],
   "source": [
    "comp = 2+3i          #j is only allowed for img num"
   ]
  },
  {
   "cell_type": "markdown",
   "id": "bd5f809c-3936-46df-a1d4-ba643acdf3e8",
   "metadata": {},
   "source": [
    "### variable declaration\n",
    "variable are case sensitive\n",
    "don't start with number\n",
    "don't use resevered keyword for variable"
   ]
  },
  {
   "cell_type": "code",
   "execution_count": 27,
   "id": "20e4a660-8d9a-4b5b-b0f2-a403ee86d0b5",
   "metadata": {},
   "outputs": [
    {
     "data": {
      "text/plain": [
       "'\\nReseved keywords\\n \\nint float string if else elif while len return .....\\n\\n'"
      ]
     },
     "execution_count": 27,
     "metadata": {},
     "output_type": "execute_result"
    }
   ],
   "source": [
    "'''\n",
    "Reseved keywords\n",
    " \n",
    "int float string if else elif while len return .....\n",
    "\n",
    "'''"
   ]
  },
  {
   "cell_type": "code",
   "execution_count": 28,
   "id": "4594b954-2e4a-4146-896d-0f4aeaba94e2",
   "metadata": {},
   "outputs": [
    {
     "data": {
      "text/plain": [
       "bool"
      ]
     },
     "execution_count": 28,
     "metadata": {},
     "output_type": "execute_result"
    }
   ],
   "source": [
    "## Boolean variable\n",
    "a = True\n",
    "b = False\n",
    "type(a)\n",
    "type(b)"
   ]
  },
  {
   "cell_type": "code",
   "execution_count": 29,
   "id": "b80a06bd-b460-44ef-a448-e32b19e11342",
   "metadata": {},
   "outputs": [
    {
     "data": {
      "text/plain": [
       "True"
      ]
     },
     "execution_count": 29,
     "metadata": {},
     "output_type": "execute_result"
    }
   ],
   "source": [
    "True and True"
   ]
  },
  {
   "cell_type": "code",
   "execution_count": 30,
   "id": "93dba280-7c17-4cba-acbd-7bfb8bbba0df",
   "metadata": {},
   "outputs": [
    {
     "data": {
      "text/plain": [
       "False"
      ]
     },
     "execution_count": 30,
     "metadata": {},
     "output_type": "execute_result"
    }
   ],
   "source": [
    "True and False"
   ]
  },
  {
   "cell_type": "code",
   "execution_count": 31,
   "id": "e3144d94-2a85-4aa4-8258-1dca7228fb21",
   "metadata": {},
   "outputs": [
    {
     "data": {
      "text/plain": [
       "True"
      ]
     },
     "execution_count": 31,
     "metadata": {},
     "output_type": "execute_result"
    }
   ],
   "source": [
    "True or False"
   ]
  },
  {
   "cell_type": "code",
   "execution_count": 32,
   "id": "11c3e8b3-a3a2-4baa-9503-627f81557eb5",
   "metadata": {},
   "outputs": [
    {
     "data": {
      "text/plain": [
       "False"
      ]
     },
     "execution_count": 32,
     "metadata": {},
     "output_type": "execute_result"
    }
   ],
   "source": [
    "False and False"
   ]
  },
  {
   "cell_type": "code",
   "execution_count": 33,
   "id": "7c9baeb4-afa2-456c-bded-64a22d11f716",
   "metadata": {},
   "outputs": [
    {
     "ename": "NameError",
     "evalue": "name 'true' is not defined",
     "output_type": "error",
     "traceback": [
      "\u001b[0;31m---------------------------------------------------------------------------\u001b[0m",
      "\u001b[0;31mNameError\u001b[0m                                 Traceback (most recent call last)",
      "Cell \u001b[0;32mIn[33], line 1\u001b[0m\n\u001b[0;32m----> 1\u001b[0m \u001b[38;5;129;01mnot\u001b[39;00m \u001b[43mtrue\u001b[49m\n",
      "\u001b[0;31mNameError\u001b[0m: name 'true' is not defined"
     ]
    }
   ],
   "source": [
    "not true"
   ]
  },
  {
   "cell_type": "code",
   "execution_count": 34,
   "id": "ce0d6d8b-e313-4f5f-90e6-a1f7c0cfa835",
   "metadata": {},
   "outputs": [
    {
     "data": {
      "text/plain": [
       "False"
      ]
     },
     "execution_count": 34,
     "metadata": {},
     "output_type": "execute_result"
    }
   ],
   "source": [
    "not True"
   ]
  },
  {
   "cell_type": "code",
   "execution_count": 35,
   "id": "9150f534-e04c-488b-87fa-c6e863c1bb8b",
   "metadata": {},
   "outputs": [
    {
     "data": {
      "text/plain": [
       "bool"
      ]
     },
     "execution_count": 35,
     "metadata": {},
     "output_type": "execute_result"
    }
   ],
   "source": [
    "type(True)"
   ]
  },
  {
   "cell_type": "code",
   "execution_count": 39,
   "id": "1b984f52-2823-426e-a05d-6b1275af9ec5",
   "metadata": {},
   "outputs": [
    {
     "data": {
      "text/plain": [
       "True"
      ]
     },
     "execution_count": 39,
     "metadata": {},
     "output_type": "execute_result"
    }
   ],
   "source": [
    "#typecasting\n",
    "bool(1)"
   ]
  },
  {
   "cell_type": "code",
   "execution_count": 38,
   "id": "d0764c8c-74a2-4ed5-ab63-400354055d98",
   "metadata": {},
   "outputs": [
    {
     "data": {
      "text/plain": [
       "False"
      ]
     },
     "execution_count": 38,
     "metadata": {},
     "output_type": "execute_result"
    }
   ],
   "source": [
    "bool(0)"
   ]
  },
  {
   "cell_type": "code",
   "execution_count": 40,
   "id": "0f635dbf-c78d-4605-b56f-3b7276d31226",
   "metadata": {},
   "outputs": [
    {
     "data": {
      "text/plain": [
       "'23'"
      ]
     },
     "execution_count": 40,
     "metadata": {},
     "output_type": "execute_result"
    }
   ],
   "source": [
    "str(23)"
   ]
  },
  {
   "cell_type": "code",
   "execution_count": 41,
   "id": "0781321d-2151-4a1f-8c14-0a611d4290e0",
   "metadata": {},
   "outputs": [
    {
     "data": {
      "text/plain": [
       "23"
      ]
     },
     "execution_count": 41,
     "metadata": {},
     "output_type": "execute_result"
    }
   ],
   "source": [
    "int('23')"
   ]
  },
  {
   "cell_type": "code",
   "execution_count": 43,
   "id": "4bb493e2-496f-4a7d-9db2-20fc8711c347",
   "metadata": {},
   "outputs": [
    {
     "data": {
      "text/plain": [
       "3"
      ]
     },
     "execution_count": 43,
     "metadata": {},
     "output_type": "execute_result"
    }
   ],
   "source": [
    "int(3.14)"
   ]
  },
  {
   "cell_type": "markdown",
   "id": "cf8ae412-518d-4ff5-9abf-7c8aa65cbf28",
   "metadata": {},
   "source": [
    "### Dynamic Typing"
   ]
  },
  {
   "cell_type": "code",
   "execution_count": 42,
   "id": "2cbc7919-6c5b-43b7-a023-b63f4044b975",
   "metadata": {},
   "outputs": [],
   "source": [
    "a=12"
   ]
  },
  {
   "cell_type": "markdown",
   "id": "312eb11d-acfe-4f5e-be43-40ef870c79ef",
   "metadata": {},
   "source": [
    "''' at run time compier understand 'a' variable stores the refereence of interger'''"
   ]
  },
  {
   "cell_type": "code",
   "execution_count": 44,
   "id": "10271216-0195-4591-a747-a8e0b4585b93",
   "metadata": {},
   "outputs": [],
   "source": [
    "a = 'hello'"
   ]
  },
  {
   "cell_type": "code",
   "execution_count": 50,
   "id": "241dac19-8a45-47e5-91c2-e29e71e4e00c",
   "metadata": {},
   "outputs": [],
   "source": [
    "## concatencating the different objects -> +"
   ]
  },
  {
   "cell_type": "code",
   "execution_count": 47,
   "id": "9b956000-e1a9-461f-a351-bd634c8d93ca",
   "metadata": {},
   "outputs": [
    {
     "data": {
      "text/plain": [
       "'cd'"
      ]
     },
     "execution_count": 47,
     "metadata": {},
     "output_type": "execute_result"
    }
   ],
   "source": [
    "'c'+'d'"
   ]
  },
  {
   "cell_type": "code",
   "execution_count": 48,
   "id": "5a01a2d5-e7a4-4347-a921-08e88a2f405e",
   "metadata": {},
   "outputs": [
    {
     "ename": "TypeError",
     "evalue": "unsupported operand type(s) for +: 'int' and 'str'",
     "output_type": "error",
     "traceback": [
      "\u001b[0;31m---------------------------------------------------------------------------\u001b[0m",
      "\u001b[0;31mTypeError\u001b[0m                                 Traceback (most recent call last)",
      "Cell \u001b[0;32mIn[48], line 1\u001b[0m\n\u001b[0;32m----> 1\u001b[0m \u001b[38;5;28;43mint\u001b[39;49m\u001b[43m(\u001b[49m\u001b[38;5;241;43m1\u001b[39;49m\u001b[43m)\u001b[49m\u001b[43m \u001b[49m\u001b[38;5;241;43m+\u001b[39;49m\u001b[43m \u001b[49m\u001b[38;5;124;43m'\u001b[39;49m\u001b[38;5;124;43m1\u001b[39;49m\u001b[38;5;124;43m'\u001b[39;49m\n",
      "\u001b[0;31mTypeError\u001b[0m: unsupported operand type(s) for +: 'int' and 'str'"
     ]
    }
   ],
   "source": [
    "int(1) + '1'\n"
   ]
  },
  {
   "cell_type": "code",
   "execution_count": 49,
   "id": "46499dbb-7127-45b5-8a60-bc826a5d4f4a",
   "metadata": {},
   "outputs": [
    {
     "data": {
      "text/plain": [
       "'123'"
      ]
     },
     "execution_count": 49,
     "metadata": {},
     "output_type": "execute_result"
    }
   ],
   "source": [
    "str(1) + '23'"
   ]
  },
  {
   "cell_type": "code",
   "execution_count": 51,
   "id": "1e2f69f7-d1cf-4d9c-b590-ec593b797c87",
   "metadata": {},
   "outputs": [],
   "source": [
    "## repilation of different objects -> *"
   ]
  },
  {
   "cell_type": "code",
   "execution_count": 52,
   "id": "3e6bcbdd-71f2-41ad-9419-fb9367d782c8",
   "metadata": {},
   "outputs": [
    {
     "ename": "TypeError",
     "evalue": "can't multiply sequence by non-int of type 'str'",
     "output_type": "error",
     "traceback": [
      "\u001b[0;31m---------------------------------------------------------------------------\u001b[0m",
      "\u001b[0;31mTypeError\u001b[0m                                 Traceback (most recent call last)",
      "Cell \u001b[0;32mIn[52], line 1\u001b[0m\n\u001b[0;32m----> 1\u001b[0m \u001b[38;5;124;43m'\u001b[39;49m\u001b[38;5;124;43m1\u001b[39;49m\u001b[38;5;124;43m'\u001b[39;49m\u001b[43m \u001b[49m\u001b[38;5;241;43m*\u001b[39;49m\u001b[43m \u001b[49m\u001b[38;5;124;43m'\u001b[39;49m\u001b[38;5;124;43m1\u001b[39;49m\u001b[38;5;124;43m'\u001b[39;49m\n",
      "\u001b[0;31mTypeError\u001b[0m: can't multiply sequence by non-int of type 'str'"
     ]
    }
   ],
   "source": [
    "'1' * '1'"
   ]
  },
  {
   "cell_type": "code",
   "execution_count": 53,
   "id": "ee8dd983-8ace-42a1-a282-1871aba176c8",
   "metadata": {},
   "outputs": [
    {
     "data": {
      "text/plain": [
       "'11111'"
      ]
     },
     "execution_count": 53,
     "metadata": {},
     "output_type": "execute_result"
    }
   ],
   "source": [
    "'1' * 5"
   ]
  },
  {
   "cell_type": "code",
   "execution_count": null,
   "id": "94d6afe9-ef71-4a89-9a7b-237428203e12",
   "metadata": {},
   "outputs": [],
   "source": []
  }
 ],
 "metadata": {
  "kernelspec": {
   "display_name": "Python 3 (ipykernel)",
   "language": "python",
   "name": "python3"
  },
  "language_info": {
   "codemirror_mode": {
    "name": "ipython",
    "version": 3
   },
   "file_extension": ".py",
   "mimetype": "text/x-python",
   "name": "python",
   "nbconvert_exporter": "python",
   "pygments_lexer": "ipython3",
   "version": "3.10.8"
  }
 },
 "nbformat": 4,
 "nbformat_minor": 5
}
