{
  "nbformat": 4,
  "nbformat_minor": 0,
  "metadata": {
    "colab": {
      "provenance": [],
      "authorship_tag": "ABX9TyOm3qWyyCMnolovjFgPiFnD",
      "include_colab_link": true
    },
    "kernelspec": {
      "name": "python3",
      "display_name": "Python 3"
    },
    "language_info": {
      "name": "python"
    }
  },
  "cells": [
    {
      "cell_type": "markdown",
      "metadata": {
        "id": "view-in-github",
        "colab_type": "text"
      },
      "source": [
        "<a href=\"https://colab.research.google.com/github/tanishqacodes/DATA-SCIENCE-MASTERS/blob/main/ASSIGNMENT3.ipynb\" target=\"_parent\"><img src=\"https://colab.research.google.com/assets/colab-badge.svg\" alt=\"Open In Colab\"/></a>"
      ]
    },
    {
      "cell_type": "code",
      "source": [
        "#Q1. What are the characteristics of the tuples? Is tuple immutable?\n",
        "print('''The characteristics of a Python tuple are:\n",
        "\n",
        "* Tuples are ordered, indexed collections of data. Similar to string indices, the first value in the tuple will have the index [0], the second value [1], and so on. \n",
        "* Tuples can store duplicate values.\n",
        "* Once data is assigned to a tuple, the values cannot be changed.\n",
        "* Tuples allow you to store several data items in one variable. You can choose to store only one kind of data in a tuple or mix it up as needed.''')"
      ],
      "metadata": {
        "colab": {
          "base_uri": "https://localhost:8080/"
        },
        "id": "n8fq5UAK2uid",
        "outputId": "ecc019d3-0d29-4bb5-d02d-420a5a343435"
      },
      "execution_count": 1,
      "outputs": [
        {
          "output_type": "stream",
          "name": "stdout",
          "text": [
            "The characteristics of a Python tuple are:\n",
            "\n",
            "* Tuples are ordered, indexed collections of data. Similar to string indices, the first value in the tuple will have the index [0], the second value [1], and so on. \n",
            "* Tuples can store duplicate values.\n",
            "* Once data is assigned to a tuple, the values cannot be changed.\n",
            "* Tuples allow you to store several data items in one variable. You can choose to store only one kind of data in a tuple or mix it up as needed.\n"
          ]
        }
      ]
    },
    {
      "cell_type": "code",
      "source": [
        "#Q2. What are the two tuple methods in python? Give an example of each method. Give a reason why tuples have only two in-built methods as compared to Lists.\n",
        "print(\"Python has two built-in methods that you can use on tuples:-\")\n",
        "t = (1,2,4,5,6,8,6,5,4,3,1)\n",
        "for i in t:\n",
        "  print(i,end=\" \")\n",
        "print('''\\n** count():-\tReturns the number of times a specified value occurs in a tuple.\n",
        "Syntax - tuple.count(value)\n",
        "''')\n",
        "print(\"EXAMPLE\")\n",
        "print(t.count(4))\n",
        "print('''** index():-\tSearches the tuple for a specified value and returns the position of where it was found.\n",
        "Syntax - tuple.index(value)\n",
        "''')\n",
        "print(t.index(6))\n"
      ],
      "metadata": {
        "colab": {
          "base_uri": "https://localhost:8080/"
        },
        "id": "ecJ_0Xue3bIT",
        "outputId": "ce45913a-690f-46b3-dcc6-440fde4bb535"
      },
      "execution_count": 3,
      "outputs": [
        {
          "output_type": "stream",
          "name": "stdout",
          "text": [
            "Python has two built-in methods that you can use on tuples:-\n",
            "1 2 4 5 6 8 6 5 4 3 1 \n",
            "** count():-\tReturns the number of times a specified value occurs in a tuple.\n",
            "Syntax - tuple.count(value)\n",
            "\n",
            "EXAMPLE\n",
            "2\n",
            "** index():-\tSearches the tuple for a specified value and returns the position of where it was found.\n",
            "Syntax - tuple.index(value)\n",
            "\n",
            "4\n"
          ]
        }
      ]
    },
    {
      "cell_type": "code",
      "source": [
        "#Q3. Which collection datatypes in python do not allow duplicate items? Write a code using a set to remove duplicates from the given list.\n",
        "print('''\n",
        "Sets are a collection that is unordered and unindexed. They are mutable (changeable) but do not allow duplicate items.\n",
        "''')\n",
        "lst = [1, 1, 1, 2, 1, 3, 1, 4, 2, 1, 2, 2, 2, 3, 2, 4, 3, 1, 3, 2, 3, 3, 3, 4, 4, 1, 4, 2, 4, 3, 4, 4]\n",
        "print(\"List\")\n",
        "for i in lst:\n",
        "  print(i,end = \" \")\n",
        "s = set(lst)\n",
        "print(\"\\nList is converted into set\")\n",
        "for i in s:\n",
        "  print(i,end = \" \")"
      ],
      "metadata": {
        "colab": {
          "base_uri": "https://localhost:8080/"
        },
        "id": "adpsFvb358Aq",
        "outputId": "94610b7c-7019-400f-80db-93b570464df2"
      },
      "execution_count": 6,
      "outputs": [
        {
          "output_type": "stream",
          "name": "stdout",
          "text": [
            "\n",
            "Sets are a collection that is unordered and unindexed. They are mutable (changeable) but do not allow duplicate items.\n",
            "\n",
            "List\n",
            "1 1 1 2 1 3 1 4 2 1 2 2 2 3 2 4 3 1 3 2 3 3 3 4 4 1 4 2 4 3 4 4 \n",
            "List is converted into set\n",
            "1 2 3 4 "
          ]
        }
      ]
    },
    {
      "cell_type": "code",
      "source": [
        "#Q4. Explain the difference between the union() and update() methods for a set. Give an example of each method.\n",
        "print(\"Main difference between union() and update() is that update() adds all missing elements to the set on which it is called whereas set. union() creates a new set.\")\n",
        "A = {2, 4, 5, 6}\n",
        "B = {4, 6, 7, 8}\n",
        "print(A)\n",
        "print(B)\n",
        "print(\"UNION : \", A.union(B))\n",
        "A.update(B)\n",
        "print(\"UPDATE : \",A)"
      ],
      "metadata": {
        "colab": {
          "base_uri": "https://localhost:8080/"
        },
        "id": "KYSmTfDG6w_b",
        "outputId": "3399fc69-5048-4611-8c96-756647b5d3cc"
      },
      "execution_count": 8,
      "outputs": [
        {
          "output_type": "stream",
          "name": "stdout",
          "text": [
            "Main difference between union() and update() is that update() adds all missing elements to the set on which it is called whereas set. union() creates a new set.\n",
            "{2, 4, 5, 6}\n",
            "{8, 4, 6, 7}\n",
            "UNION :  {2, 4, 5, 6, 7, 8}\n",
            "UPDATE :  {2, 4, 5, 6, 7, 8}\n"
          ]
        }
      ]
    },
    {
      "cell_type": "code",
      "source": [
        "#Q5. What is a dictionary? Give an example. Also, state whether a dictionary is ordered or unordered.\n",
        "print('''\n",
        "Dictionary in Python is a collection of keys values, used to store data values like a map, which, unlike other data types which hold only a single value as an element.\n",
        "* A dictionary can be created by placing a sequence of elements within curly {} braces, separated by ‘comma’. \n",
        "* Dictionary holds pairs of values, one being the Key and the other corresponding pair element being its Key:value.\n",
        "* Values in a dictionary can be of any data type and can be duplicated, whereas keys can’t be repeated and must be immutable. \n",
        "''')\n",
        "print(\"A dictionary is a collection which is **ordered**\")"
      ],
      "metadata": {
        "colab": {
          "base_uri": "https://localhost:8080/"
        },
        "id": "37pzPY328WEv",
        "outputId": "76770c6d-793b-4d5b-8dbe-9a3308756571"
      },
      "execution_count": 10,
      "outputs": [
        {
          "output_type": "stream",
          "name": "stdout",
          "text": [
            "\n",
            "Dictionary in Python is a collection of keys values, used to store data values like a map, which, unlike other data types which hold only a single value as an element.\n",
            "* A dictionary can be created by placing a sequence of elements within curly {} braces, separated by ‘comma’. \n",
            "* Dictionary holds pairs of values, one being the Key and the other corresponding pair element being its Key:value.\n",
            "* Values in a dictionary can be of any data type and can be duplicated, whereas keys can’t be repeated and must be immutable. \n",
            "\n",
            "A dictionary is a collection which is **ordered**\n"
          ]
        }
      ]
    },
    {
      "cell_type": "code",
      "source": [
        "#Q6. Can we create a nested dictionary? If so, please give an example by creating a simple one-level nested dictionary.\n",
        "print('''\n",
        "Yes , A Nested dictionary can be created by placing the comma-separated dictionaries enclosed within braces. \n",
        "''')\n",
        "print(\"Example :- \")\n",
        "Dict = { 'Dict1': {1: 'A', 2: 'B', 3: 'C'},\n",
        "         'Dict2': {'Name': 'Tanishqa', 1: [1, 2]} }\n",
        "print(\"\\nNested dictionary : \")\n",
        "print(Dict)"
      ],
      "metadata": {
        "colab": {
          "base_uri": "https://localhost:8080/"
        },
        "id": "DA1_elu396Kf",
        "outputId": "b2f38770-cc91-4a22-be76-55f10ff2cf59"
      },
      "execution_count": 12,
      "outputs": [
        {
          "output_type": "stream",
          "name": "stdout",
          "text": [
            "\n",
            "Yes , A Nested dictionary can be created by placing the comma-separated dictionaries enclosed within braces. \n",
            "\n",
            "Example :- \n",
            "\n",
            "Nested dictionary : \n",
            "{'Dict1': {1: 'A', 2: 'B', 3: 'C'}, 'Dict2': {'Name': 'Tanishqa', 1: [1, 2]}}\n"
          ]
        }
      ]
    },
    {
      "cell_type": "code",
      "source": [
        "#Q7. Using setdefault() method, create key named topics in the given dictionary and also add the value of the key as this list ['Python', 'Machine Learning’, 'Deep Learning']\n",
        "dict1 = {'language' : 'Python', 'course': 'Data Science Masters'}\n",
        "dict1.setdefault('topics',[\"Python\", \"Machine Learning\", \"Deep Learning\"])\n",
        "print(dict1)"
      ],
      "metadata": {
        "colab": {
          "base_uri": "https://localhost:8080/"
        },
        "id": "tlRccp9v_EdF",
        "outputId": "4918fbf6-4e00-412d-dcbb-a3ce7d9d7c24"
      },
      "execution_count": 15,
      "outputs": [
        {
          "output_type": "stream",
          "name": "stdout",
          "text": [
            "{'language': 'Python', 'course': 'Data Science Masters', 'topics': ['Python', 'Machine Learning', 'Deep Learning']}\n"
          ]
        }
      ]
    },
    {
      "cell_type": "code",
      "source": [
        "#Q8. What are the three view objects in dictionaries? Use the three in-built methods in python to display these three view objects for the given dictionary.\n",
        "print('''\n",
        "The main view objects of dictionary in python are keys, values and items. They provide a non-constant view of the dictionary’s entries.\n",
        "''')\n",
        "print('''* Keys :- The view object keys represent all the keys in a dictionary. You can retrieve the contents of this object using the keys() method.\\n''')\n",
        "d = {'Sport': 'Cricket' , 'Teams': ['India', 'Australia', 'England', 'South Africa', 'Sri Lanka', 'New Zealand']}\n",
        "print(d)\n",
        "k = d.keys()\n",
        "print(k)\n",
        "print(type(k))\n",
        "print('''* Values :- values() is an built in method of Python programming language which returns a view object. That view object contains the value of the dictionary as a list.\\n''')\n",
        "v = d.values()\n",
        "print(v)\n",
        "print(type(v))\n",
        "print('''*  Items :- The items() method returns a new view of the dictionary’s items ((key, value) pairs) as a list with all dictionary keys with values.\\n''')\n",
        "i = d.items()\n",
        "print(i)\n",
        "print(type(i))"
      ],
      "metadata": {
        "colab": {
          "base_uri": "https://localhost:8080/"
        },
        "id": "McepIecjAQ5n",
        "outputId": "49674ffc-2679-4571-88f6-6b27997d63da"
      },
      "execution_count": 18,
      "outputs": [
        {
          "output_type": "stream",
          "name": "stdout",
          "text": [
            "\n",
            "The main view objects of dictionary in python are keys, values and items. They provide a non-constant view of the dictionary’s entries.\n",
            "\n",
            "* Keys :- The view object keys represent all the keys in a dictionary. You can retrieve the contents of this object using the keys() method.\n",
            "\n",
            "{'Sport': 'Cricket', 'Teams': ['India', 'Australia', 'England', 'South Africa', 'Sri Lanka', 'New Zealand']}\n",
            "dict_keys(['Sport', 'Teams'])\n",
            "<class 'dict_keys'>\n",
            "* Values :- values() is an built in method of Python programming language which returns a view object. That view object contains the value of the dictionary as a list.\n",
            "\n",
            "dict_values(['Cricket', ['India', 'Australia', 'England', 'South Africa', 'Sri Lanka', 'New Zealand']])\n",
            "<class 'dict_values'>\n",
            "*  Items :- The items() method returns a new view of the dictionary’s items ((key, value) pairs) as a list with all dictionary keys with values.\n",
            "\n",
            "dict_items([('Sport', 'Cricket'), ('Teams', ['India', 'Australia', 'England', 'South Africa', 'Sri Lanka', 'New Zealand'])])\n",
            "<class 'dict_items'>\n"
          ]
        }
      ]
    },
    {
      "cell_type": "code",
      "source": [],
      "metadata": {
        "id": "4x_XInNzF9Fc"
      },
      "execution_count": null,
      "outputs": []
    }
  ]
}