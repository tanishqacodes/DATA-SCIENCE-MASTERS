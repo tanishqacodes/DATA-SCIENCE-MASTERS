{
  "nbformat": 4,
  "nbformat_minor": 0,
  "metadata": {
    "colab": {
      "provenance": [],
      "authorship_tag": "ABX9TyMm37fqi9XjuBuY2GnuEj+q",
      "include_colab_link": true
    },
    "kernelspec": {
      "name": "python3",
      "display_name": "Python 3"
    },
    "language_info": {
      "name": "python"
    }
  },
  "cells": [
    {
      "cell_type": "markdown",
      "metadata": {
        "id": "view-in-github",
        "colab_type": "text"
      },
      "source": [
        "<a href=\"https://colab.research.google.com/github/tanishqacodes/DATA-SCIENCE-MASTERS/blob/main/06_Feb_ASS.ipynb\" target=\"_parent\"><img src=\"https://colab.research.google.com/assets/colab-badge.svg\" alt=\"Open In Colab\"/></a>"
      ]
    },
    {
      "cell_type": "markdown",
      "source": [
        "### Q1. Create a function which will take a list as an argument and return the product of all the numbers after creating a flat list. Use the below-given list as an argument for your function.\n",
        "list1 = [1,2,3,4, [44,55,66, True], False, (34,56,78,89,34), {1,2,3,3,2,1}, {1:34, \"key2\": [55, 67, 78, 89], 4: (45,\n",
        "22, 61, 34)}, [56, 'data science'], 'Machine Learning']\n",
        "\n",
        "* Note: you must extract numeric keys and values of the dictionary also."
      ],
      "metadata": {
        "id": "elE7-RKuPaGJ"
      }
    },
    {
      "cell_type": "code",
      "execution_count": 5,
      "metadata": {
        "colab": {
          "base_uri": "https://localhost:8080/"
        },
        "id": "F4epoxRTPU6y",
        "outputId": "ccde140a-11f1-4de1-a2a5-890343af5a57"
      },
      "outputs": [
        {
          "output_type": "stream",
          "name": "stdout",
          "text": [
            "4134711838987085478833841242112000\n"
          ]
        }
      ],
      "source": [
        "def flatten(list1):\n",
        "    flattenedList = []\n",
        "    for i in list1:\n",
        "        if isinstance(i, (list, tuple, set)):\n",
        "            flattenedList.extend(flatten(i))\n",
        "        elif isinstance(i, dict):\n",
        "            for key, value in i.items():\n",
        "                flattenedList.extend(flatten([key, value]))\n",
        "        else:\n",
        "            flattenedList.append(i)\n",
        "    return flattenedList\n",
        "def solve(flatList):\n",
        "  product = 1\n",
        "  for i in flatList:\n",
        "    if type(i) == int:\n",
        "      product *= i\n",
        "  return product\n",
        "list1 = [1,2,3,4, [44,55,66, True], False, (34,56,78,89,34), {1,2,3,3,2,1}, {1:34, \"key2\": [55, 67, 78, 89], 4: (45, 22, 61, 34)}, [56, 'data science'], 'Machine Learning']\n",
        "flatList = flatten(list1)\n",
        "print(solve(flatList))"
      ]
    },
    {
      "cell_type": "markdown",
      "source": [
        "### Q2. Write a python program for encrypting a message sent to you by your friend. The logic of encryption should be such that, for a the output should be z. For b, the output should be y. For c, the output should be x respectively. Also, the whitespace should be replaced with a dollar sign. Keep the punctuation marks unchanged.\n",
        "* Input Sentence: I want to become a Data Scientist.\n",
        "* Encrypt the above input sentence using the program you just created.\n",
        "  * Note: Convert the given input sentence into lowercase before encrypting. The final output should be\n",
        "lowercase."
      ],
      "metadata": {
        "id": "V-dTzrePaHmo"
      }
    },
    {
      "cell_type": "code",
      "source": [
        "input = \"I want to become a Data Scientist.\"\n",
        "input = input.lower()\n",
        "encr = \"\"\n",
        "for i in input:\n",
        "  if (i.islower()):\n",
        "    encr +=chr(ord('z') - ord(i) + ord('a'))\n",
        "  elif (i == \" \"):\n",
        "    encr += \"$\"\n",
        "  else:\n",
        "    encr += i\n",
        "print(encr)"
      ],
      "metadata": {
        "colab": {
          "base_uri": "https://localhost:8080/"
        },
        "id": "ihIvyIQ3VIxV",
        "outputId": "f5704ce8-1e23-4519-b442-bf561f65d72f"
      },
      "execution_count": null,
      "outputs": [
        {
          "output_type": "stream",
          "name": "stdout",
          "text": [
            "r$dzmg$gl$yvxlnv$z$wzgz$hxrvmgrhg.\n"
          ]
        }
      ]
    },
    {
      "cell_type": "code",
      "source": [],
      "metadata": {
        "id": "hywjJZLWb6xr"
      },
      "execution_count": null,
      "outputs": []
    }
  ]
}