{
  "nbformat": 4,
  "nbformat_minor": 0,
  "metadata": {
    "colab": {
      "provenance": [],
      "authorship_tag": "ABX9TyNkKU2ldG22c5GOcm4N76sQ",
      "include_colab_link": true
    },
    "kernelspec": {
      "name": "python3",
      "display_name": "Python 3"
    },
    "language_info": {
      "name": "python"
    }
  },
  "cells": [
    {
      "cell_type": "markdown",
      "metadata": {
        "id": "view-in-github",
        "colab_type": "text"
      },
      "source": [
        "<a href=\"https://colab.research.google.com/github/tanishqacodes/DATA-SCIENCE-MASTERS/blob/main/15_FEB_ASS.ipynb\" target=\"_parent\"><img src=\"https://colab.research.google.com/assets/colab-badge.svg\" alt=\"Open In Colab\"/></a>"
      ]
    },
    {
      "cell_type": "markdown",
      "source": [
        "### Q1. What is multiprocessing in python? Why is it useful?\n",
        "The multiprocessing package supports spawning processes. It refers to a function that loads and executes a new child processes. For the child to terminate or to continue executing concurrent computing,then the current process has to wait using an API, which is similar to threading module.\n",
        "\n",
        "The multiprocessing package offers both local and remote concurrency, effectively side-stepping the Global Interpreter Lock by using subprocesses instead of threads. Due to this, the multiprocessing module allows the programmer to fully leverage multiple processors on a given machine.\n"
      ],
      "metadata": {
        "id": "z3ebtNkS1_rc"
      }
    },
    {
      "cell_type": "markdown",
      "source": [
        "### Q2. What are the differences between multiprocessing and multithreading?\n",
        "While multithreading and multiprocessing can both be used to increase the computing power of a system, there are some key differences between these approaches. Here are some of the primary ways these methods differ from one another:\n",
        "\n",
        "1. Multiprocessing uses two or more CPUs to increase computing power, whereas multithreading uses a single process with multiple code segments to increase computing power.\n",
        "2. Multithreading focuses on generating computing threads from a single process, whereas multiprocessing increases computing power by adding CPUs.\n",
        "3. Multiprocessing is used to create a more reliable system, whereas multithreading is used to create threads that run parallel to each other.\n",
        "4. multithreading is quick to create and requires few resources, whereas multiprocessing requires a significant amount of time and specific resources to create.\n",
        "5. Multiprocessing executes many processes simultaneously, whereas multithreading executes many threads simultaneously.\n",
        "6. Multithreading uses a common address space for all the threads, whereas multiprocessing creates a separate address space for each process."
      ],
      "metadata": {
        "id": "9lXbd05X3H87"
      }
    },
    {
      "cell_type": "markdown",
      "source": [
        "### Q3. Write a python code to create a process using the multiprocessing module."
      ],
      "metadata": {
        "id": "O008lpWn3mcD"
      }
    },
    {
      "cell_type": "code",
      "execution_count": 1,
      "metadata": {
        "colab": {
          "base_uri": "https://localhost:8080/"
        },
        "id": "JnK9lbGX17BO",
        "outputId": "ddbfadee-9f05-4af8-e730-b3574321041c"
      },
      "outputs": [
        {
          "output_type": "stream",
          "name": "stdout",
          "text": [
            "Square: 100\n",
            "Cube: 1000\n",
            "Done!\n"
          ]
        }
      ],
      "source": [
        "import multiprocessing\n",
        "\n",
        "def print_cube(num):\n",
        "\tprint(\"Cube: {}\".format(num * num * num))\n",
        "\n",
        "def print_square(num):\n",
        "\tprint(\"Square: {}\".format(num * num))\n",
        "\n",
        "if __name__ == \"__main__\":\n",
        "\t# processes\n",
        "\tp1 = multiprocessing.Process(target=print_square, args=(10, ))\n",
        "\tp2 = multiprocessing.Process(target=print_cube, args=(10, ))\n",
        "\n",
        "\t# starting process 1\n",
        "\tp1.start()\n",
        "\t# starting process 2\n",
        "\tp2.start()\n",
        "\n",
        "\t# wait until process 1 is finished\n",
        "\tp1.join()\n",
        "\t# wait until process 2 is finished\n",
        "\tp2.join()\n",
        "\n",
        "\t# both processes finished\n",
        "\tprint(\"Done!\")\n"
      ]
    },
    {
      "cell_type": "markdown",
      "source": [
        "### Q4. What is a multiprocessing pool in python? Why is it used?\n",
        "The Python Multiprocessing Pool class allows you to create and manage process pools in Python.\n",
        "\n",
        "Python multiprocessing Pool can be used for parallel execution of a function across multiple input values, distributing the input data across processes (data parallelism). "
      ],
      "metadata": {
        "id": "FDqJcKU54GSO"
      }
    },
    {
      "cell_type": "markdown",
      "source": [
        "### Q5. How can we create a pool of worker processes in python using the multiprocessing module?\n",
        "\n",
        "We can configure the number of worker processes in the multiprocessing.pool.Pool by setting the “processes” argument in the constructor."
      ],
      "metadata": {
        "id": "98SJrvaz46oO"
      }
    },
    {
      "cell_type": "code",
      "source": [
        "def square(n):\n",
        "    return n*n;\n",
        "\n",
        "if __name__ == '__main__':\n",
        "    with multiprocessing.Pool(processes = 5) as pool:\n",
        "        out =pool.map(square,[3,4,5,6,7,8,1,2,3,4,6,7,4,2]) \n",
        "        print(out)\n",
        "   "
      ],
      "metadata": {
        "colab": {
          "base_uri": "https://localhost:8080/"
        },
        "id": "M9_xe4Ns4r9a",
        "outputId": "347c5e59-9593-4bed-aae0-f2a73c2ed445"
      },
      "execution_count": 2,
      "outputs": [
        {
          "output_type": "stream",
          "name": "stdout",
          "text": [
            "[9, 16, 25, 36, 49, 64, 1, 4, 9, 16, 36, 49, 16, 4]\n"
          ]
        }
      ]
    },
    {
      "cell_type": "markdown",
      "source": [
        "### Q6. Write a python program to create 4 processes, each process should print a different number using the multiprocessing module in python.\n",
        "\n"
      ],
      "metadata": {
        "id": "jvHuAlBj6uEe"
      }
    },
    {
      "cell_type": "code",
      "source": [
        "import multiprocessing\n",
        "\n",
        "def print_number(num):\n",
        "    print(\"Process  \", num, \"prints:\", num)\n",
        "\n",
        "if __name__ == \"__main__\":\n",
        "    processes = []\n",
        "    for i in range(4):\n",
        "        p = multiprocessing.Process(target=print_number, args=(i,))\n",
        "        processes.append(p)\n",
        "        p.start()\n",
        "\n",
        "    for p in processes:\n",
        "        p.join()\n"
      ],
      "metadata": {
        "colab": {
          "base_uri": "https://localhost:8080/"
        },
        "id": "ogWzsnqJ6r6H",
        "outputId": "93d2d39b-261c-4e9a-bfe6-b7cfdb3bed65"
      },
      "execution_count": 4,
      "outputs": [
        {
          "output_type": "stream",
          "name": "stdout",
          "text": [
            "Process   Process  1 prints: 0Process     2prints:1 \n",
            " prints:Process   02 \n",
            "\n",
            "3 prints: 3\n"
          ]
        }
      ]
    }
  ]
}